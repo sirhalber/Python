{
 "cells": [
  {
   "cell_type": "code",
   "execution_count": null,
   "id": "a8af63cf-f412-4391-a1a7-9665ee522686",
   "metadata": {},
   "outputs": [],
   "source": [
    "#Create DataFrame\n",
    "import codecademylib3\n",
    "import pandas as pd\n",
    "\n",
    "df1 = pd.DataFrame({\n",
    "  'Product ID': [1, 2, 3, 4], \n",
    "  'Product Name': ['t-shirt', 't-shirt', 'skirt', 'skirt'],\n",
    "  'Color': ['blue', 'green', 'red', 'black']\n",
    " })\n",
    "print(df1)"
   ]
  },
  {
   "cell_type": "code",
   "execution_count": null,
   "id": "da7c236e-47b9-4a31-b467-251cc7cf5329",
   "metadata": {},
   "outputs": [],
   "source": [
    "#Create DataFrame II\n",
    "df2 = pd.DataFrame([\n",
    "  [1, 'San Diego', 100],\n",
    "  [2, 'Los Angeles', 120],\n",
    "  [3, 'San Francisco', 90],\n",
    "  [4, 'Sacramento', 115]\n",
    "],\n",
    "  columns=[\n",
    "    'Store ID', 'Location', 'Number of Employees'\n",
    "  ])\n",
    "\n",
    "print(df2)"
   ]
  },
  {
   "cell_type": "code",
   "execution_count": null,
   "id": "f0147ccd-81d3-4b14-b9f2-950628fff3fa",
   "metadata": {
    "tags": []
   },
   "outputs": [],
   "source": [
    "#Read CSV\n",
    "import codecademylib3\n",
    "import pandas as pd\n",
    "\n",
    "df = pd.read_csv('sample.csv')\n",
    "\n",
    "print(df)"
   ]
  },
  {
   "cell_type": "code",
   "execution_count": null,
   "id": "addf66b0-a159-4ea2-afbb-81255ff3a4ca",
   "metadata": {},
   "outputs": [],
   "source": [
    "#Inspect\n",
    "import codecademylib3\n",
    "import pandas as pd\n",
    "\n",
    "df = pd.read_csv('imdb.csv')\n",
    "print(df.head())\n",
    "print(df.info())"
   ]
  },
  {
   "cell_type": "code",
   "execution_count": null,
   "id": "102763b0-c1c7-4d11-a4cb-08ec0f3df24e",
   "metadata": {},
   "outputs": [],
   "source": [
    "#Selecting a column\n",
    "import codecademylib3\n",
    "import pandas as pd\n",
    "\n",
    "df = pd.DataFrame([\n",
    "  ['January', 100, 100, 23, 100],\n",
    "  ['February', 51, 45, 145, 45],\n",
    "  ['March', 81, 96, 65, 96],\n",
    "  ['April', 80, 80, 54, 180],\n",
    "  ['May', 51, 54, 54, 154],\n",
    "  ['June', 112, 109, 79, 129]],\n",
    "  columns=['month', 'clinic_east',\n",
    "           'clinic_north', 'clinic_south',\n",
    "           'clinic_west']\n",
    ")\n",
    "\n",
    "clinic_north = df['clinic_north']\n",
    "print(type(clinic_north))"
   ]
  },
  {
   "cell_type": "code",
   "execution_count": null,
   "id": "5d87f210-3aad-4b32-b494-c60fccc5675c",
   "metadata": {},
   "outputs": [],
   "source": [
    "#Selecting multiple columns\n",
    "import codecademylib3\n",
    "import pandas as pd\n",
    "\n",
    "df = pd.DataFrame([\n",
    "  ['January', 100, 100, 23, 100],\n",
    "  ['February', 51, 45, 145, 45],\n",
    "  ['March', 81, 96, 65, 96],\n",
    "  ['April', 80, 80, 54, 180],\n",
    "  ['May', 51, 54, 54, 154],\n",
    "  ['June', 112, 109, 79, 129]],\n",
    "  columns=['month', 'clinic_east',\n",
    "           'clinic_north', 'clinic_south',\n",
    "           'clinic_west']\n",
    ")\n",
    "\n",
    "clinic_north_south = df[['clinic_north', 'clinic_south']]\n",
    "print(type(clinic_north_south))"
   ]
  },
  {
   "cell_type": "code",
   "execution_count": null,
   "id": "57bc4f68-1c42-4703-b5dd-5d19126295c2",
   "metadata": {},
   "outputs": [],
   "source": [
    "#Selecting rows\n",
    "import codecademylib3\n",
    "import pandas as pd\n",
    "\n",
    "df = pd.DataFrame([\n",
    "  ['January', 100, 100, 23, 100],\n",
    "  ['February', 51, 45, 145, 45],\n",
    "  ['March', 81, 96, 65, 96],\n",
    "  ['April', 80, 80, 54, 180],\n",
    "  ['May', 51, 54, 54, 154],\n",
    "  ['June', 112, 109, 79, 129]],\n",
    "  columns=['month', 'clinic_east',\n",
    "           'clinic_north', 'clinic_south',\n",
    "           'clinic_west'])\n",
    "\n",
    "march = df.iloc[2]"
   ]
  },
  {
   "cell_type": "code",
   "execution_count": null,
   "id": "ab16935a-5e55-493c-8d09-b4ba704ed2b9",
   "metadata": {},
   "outputs": [],
   "source": [
    "#Selecting rows II\n",
    "import codecademylib3\n",
    "import pandas as pd\n",
    "\n",
    "df = pd.DataFrame([\n",
    "  ['January', 100, 100, 23, 100],\n",
    "  ['February', 51, 45, 145, 45],\n",
    "  ['March', 81, 96, 65, 96],\n",
    "  ['April', 80, 80, 54, 180],\n",
    "  ['May', 51, 54, 54, 154],\n",
    "  ['June', 112, 109, 79, 129]],\n",
    "  columns=['month', 'clinic_east',\n",
    "           'clinic_north', 'clinic_south',\n",
    "           'clinic_west']\n",
    ")\n",
    "\n",
    "april_may_june = df.iloc[3:]\n",
    "print(april_may_june)"
   ]
  },
  {
   "cell_type": "code",
   "execution_count": null,
   "id": "1b31bf46-4973-4e82-863c-d394a14848a2",
   "metadata": {
    "tags": []
   },
   "outputs": [],
   "source": [
    "#Selecting rows III\n",
    "import codecademylib3\n",
    "import pandas as pd\n",
    "\n",
    "df = pd.DataFrame([\n",
    "  ['January', 100, 100, 23, 100],\n",
    "  ['February', 51, 45, 145, 45],\n",
    "  ['March', 81, 96, 65, 96],\n",
    "  ['April', 80, 80, 54, 180],\n",
    "  ['May', 51, 54, 54, 154],\n",
    "  ['June', 112, 109, 79, 129]],\n",
    "  columns=['month', 'clinic_east',\n",
    "           'clinic_north', 'clinic_south',\n",
    "           'clinic_west'])\n",
    "\n",
    "january = df[df.month == 'January']\n",
    "\n",
    "print(january)"
   ]
  },
  {
   "cell_type": "code",
   "execution_count": null,
   "id": "16b37a76-5ea0-4732-a91b-4763ff50e622",
   "metadata": {},
   "outputs": [],
   "source": [
    "#Selecting rows IV\n",
    "import codecademylib3\n",
    "import pandas as pd\n",
    "\n",
    "df = pd.DataFrame([\n",
    "  ['January', 100, 100, 23, 100],\n",
    "  ['February', 51, 45, 145, 45],\n",
    "  ['March', 81, 96, 65, 96],\n",
    "  ['April', 80, 80, 54, 180],\n",
    "  ['May', 51, 54, 54, 154],\n",
    "  ['June', 112, 109, 79, 129]],\n",
    "  columns=['month', 'clinic_east',\n",
    "           'clinic_north', 'clinic_south',\n",
    "           'clinic_west'])\n",
    "\n",
    "march_april = df[(df.month == 'March') | (df.month == 'April')]\n",
    "\n",
    "print(march_april)"
   ]
  },
  {
   "cell_type": "code",
   "execution_count": null,
   "id": "066be426-ae8c-4e90-8288-d021e41d1f5a",
   "metadata": {},
   "outputs": [],
   "source": [
    "#isin\n",
    "import codecademylib3\n",
    "import pandas as pd\n",
    "\n",
    "df = pd.DataFrame([\n",
    "  ['January', 100, 100, 23, 100],\n",
    "  ['February', 51, 45, 145, 45],\n",
    "  ['March', 81, 96, 65, 96],\n",
    "  ['April', 80, 80, 54, 180],\n",
    "  ['May', 51, 54, 54, 154],\n",
    "  ['June', 112, 109, 79, 129]],\n",
    "  columns=['month', 'clinic_east',\n",
    "           'clinic_north', 'clinic_south',\n",
    "           'clinic_west'])\n",
    "\n",
    "january_february_march = df[df.month.isin(['January', \n",
    "'February', \n",
    "'March'])]\n",
    "print(january_february_march)"
   ]
  },
  {
   "cell_type": "code",
   "execution_count": null,
   "id": "408d7279-30e5-474f-9c5e-a6e24f52b177",
   "metadata": {},
   "outputs": [],
   "source": [
    "#Setting indices\n",
    "import codecademylib3\n",
    "import pandas as pd\n",
    "\n",
    "df = pd.DataFrame([\n",
    "  ['January', 100, 100, 23, 100],\n",
    "  ['February', 51, 45, 145, 45],\n",
    "  ['March', 81, 96, 65, 96],\n",
    "  ['April', 80, 80, 54, 180],\n",
    "  ['May', 51, 54, 54, 154],\n",
    "  ['June', 112, 109, 79, 129]],\n",
    "  columns=['month', 'clinic_east',\n",
    "           'clinic_north', 'clinic_south',\n",
    "           'clinic_west']\n",
    ")\n",
    "\n",
    "df2 = df.loc[[1, 3, 5]]\n",
    "print(df2)\n",
    "\n",
    "df3 = df2.reset_index()\n",
    "print(df3)\n",
    "\n",
    "df2.reset_index(inplace=True, drop=True)\n",
    "print(df2)"
   ]
  },
  {
   "cell_type": "code",
   "execution_count": null,
   "id": "dc053e67-03b7-4218-a800-41ea2f3db18e",
   "metadata": {},
   "outputs": [],
   "source": [
    "#Review\n",
    "import codecademylib3\n",
    "import pandas as pd\n",
    "\n",
    "orders = pd.read_csv('shoefly.csv')\n",
    "\n",
    "print(orders.head(5))\n",
    "\n",
    "emails = orders['email']\n",
    "\n",
    "frances_palmer = orders[(orders.first_name == 'Frances') & \n",
    "(orders.last_name == 'Palmer')]\n",
    "\n",
    "comfy_shoes = orders[orders.shoe_type.isin(['clogs', 'boots', 'ballet flats'])]"
   ]
  }
 ],
 "metadata": {
  "kernelspec": {
   "display_name": "Python 3 (ipykernel)",
   "language": "python",
   "name": "python3"
  },
  "language_info": {
   "codemirror_mode": {
    "name": "ipython",
    "version": 3
   },
   "file_extension": ".py",
   "mimetype": "text/x-python",
   "name": "python",
   "nbconvert_exporter": "python",
   "pygments_lexer": "ipython3",
   "version": "3.9.12"
  }
 },
 "nbformat": 4,
 "nbformat_minor": 5
}
