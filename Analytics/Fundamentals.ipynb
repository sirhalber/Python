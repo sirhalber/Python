{
 "cells": [
  {
   "cell_type": "code",
   "execution_count": null,
   "id": "e8ef27bf-6af7-4ab2-b68d-6d0313855ea8",
   "metadata": {},
   "outputs": [],
   "source": [
    "#Calls \n",
    "def directions_to_timesSq():\n",
    "  print(\"Walk 4 mins to 34th St Herald Square train station\")\n",
    "  print(\"Take the Northbound N, Q, R, or W train 1 stop\")\n",
    "  print(\"Get off the Times Square 42nd Street stop\")\n",
    "  directions_to_timesSq()"
   ]
  },
  {
   "cell_type": "code",
   "execution_count": null,
   "id": "3e8af471-7630-42a6-beac-0e559c61ac87",
   "metadata": {},
   "outputs": [],
   "source": [
    "#Whitespace and exec. flow\n",
    "print(\"Checking the weather for you!\")\n",
    "def weather_check():\n",
    "  print(\"Looks great outside! Enjoy your trip.\")\n",
    "print(\"False Alarm, the weather changed! There is a thunderstorm approaching. Cancel your plans and stay inside.\")\n",
    "weather_check()"
   ]
  },
  {
   "cell_type": "code",
   "execution_count": null,
   "id": "88d5c70a-5e3f-4e0e-8916-1f6e539dbce6",
   "metadata": {},
   "outputs": [],
   "source": [
    "#Parameters and arguments\n",
    "def generate_trip_instructions(location):\n",
    "  print(\"Looks like you are planning a trip to visit \" + location + \" .\")\n",
    "  print(\"You can use the public subway system to get to \" + location + \" .\")\n",
    "\n",
    "generate_trip_instructions(\"Central Park\")  \n",
    "\n",
    "generate_trip_instructions(\"Grand Central Station\")  "
   ]
  },
  {
   "cell_type": "code",
   "execution_count": null,
   "id": "484293a1-f5cb-4986-8da2-85a88b3d6b80",
   "metadata": {},
   "outputs": [],
   "source": [
    "#Multiple parameters \n",
    "def calculate_expenses(plane_ticket_price, car_rental_rate, hotel_rate, trip_time):\n",
    "  car_rental_total = car_rental_rate * trip_time\n",
    "  hotel_total = hotel_rate * trip_time - 10\n",
    "  print(car_rental_total + hotel_total + plane_ticket_price)\n",
    "\n",
    "calculate_expenses(200, 100, 100, 5)"
   ]
  },
  {
   "cell_type": "code",
   "execution_count": null,
   "id": "56c719c5-268b-4d9a-aefd-95fdf896f133",
   "metadata": {},
   "outputs": [],
   "source": [
    "#Types of arguments\n",
    "def trip_planner(first_destination, second_destination, final_destination = \"Codecademy HQ\"):\n",
    "  print(\"Here is what your trip will look like!\")\n",
    "  print(\"First, we will stop in \" + first_destination + \", then \" + second_destination + \", and lastly \" + final_destination)\n",
    "trip_planner(\"Denmark\", \"France\", \"Germany\")\n",
    "trip_planner(first_destination = \"Iceland\", final_destination = \"Germany\", second_destination = \"India\")\n",
    "trip_planner(\"Brooklyn\", \"Queens\")"
   ]
  },
  {
   "cell_type": "code",
   "execution_count": null,
   "id": "6536f6de-9003-42e8-a934-8d5e2c17afbb",
   "metadata": {},
   "outputs": [],
   "source": [
    "#Functions\n",
    "tshirt_price = 9.75\n",
    "shorts_price = 15.50\n",
    "mug_price = 5.99\n",
    "poster_price = 2.00\n",
    "\n",
    "# Write your code below:\n",
    "max_price = max(tshirt_price, shorts_price, mug_price, poster_price)\n",
    "print(max_price)\n",
    "\n",
    "min_price = min(tshirt_price, shorts_price, mug_price, poster_price)\n",
    "print(min_price)\n",
    "\n",
    "rounded_price = round(tshirt_price,1)\n",
    "print(rounded_price)"
   ]
  },
  {
   "cell_type": "code",
   "execution_count": null,
   "id": "422c8ea5-c902-4f39-80c5-e200c4f67084",
   "metadata": {},
   "outputs": [],
   "source": [
    "# This function will print a hardcoded count of how many locations we have.\n",
    "favorite_locations = \"Paris, Norway, Iceland\"\n",
    "def print_count_locations():\n",
    "  print(\"There are 3 locations\")\n",
    "    \n",
    "# This function will print the favorite locations\n",
    "def show_favorite_locations():\n",
    "  print(\"Your favorite locations are: \" + favorite_locations)\n",
    "\n",
    "print_count_locations()\n",
    "show_favorite_locations()"
   ]
  },
  {
   "cell_type": "code",
   "execution_count": null,
   "id": "4bf02b95-7ac7-4f23-9e85-da48ddb272da",
   "metadata": {},
   "outputs": [],
   "source": [
    "#Functions\n",
    "current_budget = 3500.75\n",
    "\n",
    "def print_remaining_budget(budget):\n",
    "  print(\"Your remaining budget is: $\" + str(budget))\n",
    "\n",
    "print_remaining_budget(current_budget)\n",
    "\n",
    "# Write your code below: \n",
    "def deduct_expense(budget, expense):\n",
    "  return budget - expense\n",
    "\n",
    "shirt_expense = 9.0\n",
    "\n",
    "new_budget_after_shirt = deduct_expense(current_budget, shirt_expense)\n",
    "\n",
    "print_remaining_budget(new_budget_after_shirt)"
   ]
  },
  {
   "cell_type": "code",
   "execution_count": null,
   "id": "c2110ca4-b083-471a-b595-3f01eff7ffa2",
   "metadata": {},
   "outputs": [],
   "source": [
    "#Multiple returns\n",
    "def top_tourist_locations_italy():\n",
    "  first = \"Rome\"\n",
    "  second = \"Venice\"\n",
    "  third = \"Florence\"\n",
    "  return first, second, third\n",
    " \n",
    "most_popular1, most_popular2, most_popular3 = top_tourist_locations_italy()\n",
    "\n",
    "print(most_popular1)\n",
    "print(most_popular2)\n",
    "print(most_popular3)"
   ]
  },
  {
   "cell_type": "code",
   "execution_count": null,
   "id": "1af65d12-090f-46be-ad0d-fea476fb0ec8",
   "metadata": {},
   "outputs": [],
   "source": [
    "#Review\n",
    "def trip_planner_welcome(name):\n",
    "0.00  print(\"Welcome to tripplanner v1.0 \" + name)\n",
    "trip_planner_welcome(\"Alberto\")\n",
    "\n",
    "def estimated_time_rounded(estimated_time):\n",
    "  rounded_time = round(estimated_time)\n",
    "  return rounded_time\n",
    "\n",
    "estimate = estimated_time_rounded(1.54)\n",
    "\n",
    "def destination_setup(origin, destination, estimated_time, mode_of_transport = \"Car\"):\n",
    "  print(\"Your trip starts off in \" + origin)\n",
    "  print(\"And you are traveling to \" + destination)\n",
    "  print(\"You will be traveling by \" + mode_of_transport)\n",
    "  print(\"It will take approximately \" + str(estimated_time) + \" hours\")\n",
    "\n",
    "destination_setup(\"Barcelona\", \"Madrid\", estimate, \"Car\")"
   ]
  }
 ],
 "metadata": {
  "kernelspec": {
   "display_name": "Python 3 (ipykernel)",
   "language": "python",
   "name": "python3"
  },
  "language_info": {
   "codemirror_mode": {
    "name": "ipython",
    "version": 3
   },
   "file_extension": ".py",
   "mimetype": "text/x-python",
   "name": "python",
   "nbconvert_exporter": "python",
   "pygments_lexer": "ipython3",
   "version": "3.9.12"
  }
 },
 "nbformat": 4,
 "nbformat_minor": 5
}
