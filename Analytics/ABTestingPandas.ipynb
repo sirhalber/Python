{
 "cells": [
  {
   "cell_type": "code",
   "execution_count": null,
   "id": "055a0d39-0f1b-4bbd-8db0-2920864b4204",
   "metadata": {},
   "outputs": [],
   "source": [
    "import codecademylib3\n",
    "import pandas as pd\n",
    "\n",
    "ad_clicks = pd.read_csv('ad_clicks.csv')\n",
    "\n",
    "print(ad_clicks.head())\n",
    "\n",
    "ad_clicks_views = ad_clicks.groupby('utm_source').user_id.count().reset_index()\n",
    "print(ad_clicks_views)\n",
    "\n",
    "ad_clicks['is_click'] = ~ad_clicks.ad_click_timestamp.isnull()\n",
    "\n",
    "clicks_by_source = ad_clicks.groupby(['utm_source', 'is_click']).user_id.count().reset_index()\n",
    "\n",
    "clicks_pivot = clicks_by_source.pivot(columns = 'is_click', index = 'utm_source', values = 'user_id').reset_index()\n",
    "\n",
    "clicks_pivot['percent_clicked'] = clicks_pivot[True] / (clicks_pivot[True] + clicks_pivot[False])\n",
    "\n",
    "ad_clicks.groupby('experimental_group').user_id.count()\n",
    "\n",
    "ad_clicks.groupby(['experimental_group', 'is_click']).user_id.count()\n",
    "\n",
    "a_clicks = ad_clicks[ad_clicks.experimental_group == 'A']\n",
    "print(a_clicks)\n",
    "b_clicks = ad_clicks[ad_clicks.experimental_group == 'B']\n",
    "print(b_clicks)\n",
    "\n",
    "a_clicks_percent = a_clicks.groupby(['is_click', 'day']).user_id.count().reset_index()\n",
    "a_clicks_pivot = a_clicks_percent.pivot(columns = 'is_click', index = 'day', values = 'user_id').reset_index()\n",
    "a_clicks_pivot['percent_clicked'] = a_clicks_pivot[True] / (a_clicks_pivot[True] + a_clicks_pivot[False])\n",
    "print(a_clicks_pivot)\n",
    "\n",
    "b_clicks_percent = b_clicks.groupby(['is_click', 'day']).user_id.count().reset_index()\n",
    "b_clicks_pivot = b_clicks_percent.pivot(columns = 'is_click', index = 'day', values = 'user_id').reset_index()\n",
    "b_clicks_pivot['percent_clicked'] = b_clicks_pivot[True] / (b_clicks_pivot[True] + b_clicks_pivot[False])\n",
    "print(b_clicks_pivot)\n",
    "\n"
   ]
  }
 ],
 "metadata": {
  "kernelspec": {
   "display_name": "Python 3 (ipykernel)",
   "language": "python",
   "name": "python3"
  },
  "language_info": {
   "codemirror_mode": {
    "name": "ipython",
    "version": 3
   },
   "file_extension": ".py",
   "mimetype": "text/x-python",
   "name": "python",
   "nbconvert_exporter": "python",
   "pygments_lexer": "ipython3",
   "version": "3.9.12"
  }
 },
 "nbformat": 4,
 "nbformat_minor": 5
}
