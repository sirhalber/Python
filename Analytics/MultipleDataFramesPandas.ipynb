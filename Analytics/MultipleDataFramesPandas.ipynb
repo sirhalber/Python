{
 "cells": [
  {
   "cell_type": "code",
   "execution_count": null,
   "id": "e59492f2-2458-4654-95eb-6e06cc9b6bd0",
   "metadata": {},
   "outputs": [],
   "source": [
    "#Inner merge\n",
    "import codecademylib3\n",
    "import pandas as pd\n",
    "\n",
    "sales = pd.read_csv('sales.csv')\n",
    "print(sales)\n",
    "targets = pd.read_csv('targets.csv')\n",
    "print(targets)\n",
    "\n",
    "sales_vs_targets = pd.merge(sales, targets)\n",
    "print(sales_vs_targets)\n",
    "\n",
    "crushing_it = sales_vs_targets[sales_vs_targets.revenue > sales_vs_targets.target]"
   ]
  },
  {
   "cell_type": "code",
   "execution_count": null,
   "id": "25473a29-5ad2-4a11-a3e6-2f6e9c7dc6cd",
   "metadata": {},
   "outputs": [],
   "source": [
    "#Inner merge II\n",
    "import codecademylib3\n",
    "import pandas as pd\n",
    "\n",
    "sales = pd.read_csv('sales.csv')\n",
    "print(sales)\n",
    "targets = pd.read_csv('targets.csv')\n",
    "print(targets)\n",
    "\n",
    "men_women = pd.read_csv('men_women_sales.csv')\n",
    "\n",
    "all_data = sales.merge(targets).merge(men_women)\n",
    "print(all_data)\n",
    "\n",
    "results = all_data[(all_data.revenue > all_data.target) & (all_data.women > all_data.men)]"
   ]
  },
  {
   "cell_type": "code",
   "execution_count": null,
   "id": "36ce9f09-8356-41b1-84c0-0c51128cd5a4",
   "metadata": {},
   "outputs": [],
   "source": [
    "#Merge on specific columns\n",
    "import codecademylib3\n",
    "import pandas as pd\n",
    "\n",
    "orders = pd.read_csv('orders.csv')\n",
    "print(orders)\n",
    "products = pd.read_csv('products.csv')\n",
    "print(products)\n",
    "\n",
    "orders_products = pd.merge(orders, products.rename(columns={'id': 'customer_id'}))\n",
    "print(orders_products)"
   ]
  },
  {
   "cell_type": "code",
   "execution_count": null,
   "id": "acfd14b9-d41c-463f-a6ff-dec4fdfd3e37",
   "metadata": {},
   "outputs": [],
   "source": [
    "#Merge on specific columns\n",
    "import codecademylib3\n",
    "import pandas as pd\n",
    "\n",
    "orders = pd.read_csv('orders.csv')\n",
    "print(orders)\n",
    "products = pd.read_csv('products.csv')\n",
    "print(products)\n",
    "\n",
    "orders_products = pd.merge(orders, products, left_on='customer_id', right_on='id', suffixes=['_orders', '_products'])\n",
    "print(orders_products)"
   ]
  },
  {
   "cell_type": "code",
   "execution_count": null,
   "id": "61b586d0-bf0a-4241-a0e1-60215bc64861",
   "metadata": {},
   "outputs": [],
   "source": [
    "#Mismatched merges\n",
    "import codecademylib3\n",
    "import pandas as pd\n",
    "\n",
    "orders = pd.read_csv('orders.csv')\n",
    "products = pd.read_csv('products.csv')\n",
    "\n",
    "print(orders)\n",
    "print(products)\n",
    "\n",
    "merged_df = orders.merge(products)\n",
    "print(merged_df)"
   ]
  },
  {
   "cell_type": "code",
   "execution_count": null,
   "id": "42a24a33-bb24-4d9c-8a64-15c6a8543a5e",
   "metadata": {},
   "outputs": [],
   "source": [
    "#Outer merge\n",
    "import codecademylib3\n",
    "import pandas as pd\n",
    "\n",
    "store_a = pd.read_csv('store_a.csv')\n",
    "print(store_a)\n",
    "store_b = pd.read_csv('store_b.csv')\n",
    "print(store_b)\n",
    "\n",
    "store_a_b_outer = store_a.merge(store_b, how='outer')\n",
    "print(store_a_b_outer)"
   ]
  },
  {
   "cell_type": "code",
   "execution_count": null,
   "id": "97cdb7c3-96b7-4a70-968d-9c71dbe66da2",
   "metadata": {},
   "outputs": [],
   "source": [
    "#Left merge\n",
    "import codecademylib3\n",
    "import pandas as pd\n",
    "\n",
    "store_a = pd.read_csv('store_a.csv')\n",
    "print(store_a)\n",
    "store_b = pd.read_csv('store_b.csv')\n",
    "print(store_b)\n",
    "\n",
    "store_a_b_left = store_a.merge(store_b, how='left')\n",
    "print(store_a_b_left)\n",
    "\n",
    "store_b_a_left = store_b.merge(store_a, how='left')\n",
    "print(store_b_a_left)"
   ]
  },
  {
   "cell_type": "code",
   "execution_count": null,
   "id": "fe5e494f-bc63-4d9e-94b7-2e4beda9e1d4",
   "metadata": {},
   "outputs": [],
   "source": [
    "#Concat\n",
    "import codecademylib3\n",
    "import pandas as pd\n",
    "\n",
    "bakery = pd.read_csv('bakery.csv')\n",
    "print(bakery)\n",
    "ice_cream = pd.read_csv('ice_cream.csv')\n",
    "print(ice_cream)\n",
    "\n",
    "menu = pd.concat([bakery, ice_cream])\n",
    "print(menu)"
   ]
  },
  {
   "cell_type": "code",
   "execution_count": null,
   "id": "34080d45-20aa-4cae-972d-40e7eb8a5090",
   "metadata": {},
   "outputs": [],
   "source": [
    "#Review\n",
    "import codecademylib3\n",
    "import pandas as pd\n",
    "\n",
    "visits = pd.read_csv('visits.csv',\n",
    "                        parse_dates=[1])\n",
    "checkouts = pd.read_csv('checkouts.csv',\n",
    "                        parse_dates=[1])\n",
    "\n",
    "print(visits)\n",
    "print(checkouts)\n",
    "\n",
    "v_to_c = visits.merge(checkouts)\n",
    "print(v_to_c)\n",
    "\n",
    "v_to_c['time'] = v_to_c.checkout_time - v_to_c.visit_time\n",
    "print(v_to_c)\n",
    "\n",
    "print(v_to_c['time'].mean())"
   ]
  }
 ],
 "metadata": {
  "kernelspec": {
   "display_name": "Python 3 (ipykernel)",
   "language": "python",
   "name": "python3"
  },
  "language_info": {
   "codemirror_mode": {
    "name": "ipython",
    "version": 3
   },
   "file_extension": ".py",
   "mimetype": "text/x-python",
   "name": "python",
   "nbconvert_exporter": "python",
   "pygments_lexer": "ipython3",
   "version": "3.9.12"
  }
 },
 "nbformat": 4,
 "nbformat_minor": 5
}
