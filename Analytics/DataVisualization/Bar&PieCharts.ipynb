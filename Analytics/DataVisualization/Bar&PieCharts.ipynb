{
 "cells": [
  {
   "cell_type": "code",
   "execution_count": null,
   "id": "c6c0f750-b9cb-4177-a985-36e308a2f601",
   "metadata": {},
   "outputs": [],
   "source": [
    "#Bar chart with Seaborn\n",
    "import codecademylib3\n",
    "import pandas as pd \n",
    "import matplotlib.pyplot as plt\n",
    "import seaborn as sns\n",
    "\n",
    "df = pd.read_csv(\"games.csv\")\n",
    "print(df.head())\n",
    "sns.countplot(df[\"victory_status\"])\n",
    "plt.show()"
   ]
  },
  {
   "cell_type": "code",
   "execution_count": null,
   "id": "1d35b1bd-97d7-4bad-b70d-37b6d5b442cf",
   "metadata": {},
   "outputs": [],
   "source": [
    "#Bar chart ordering\n",
    "import codecademylib3\n",
    "import pandas as pd \n",
    "import matplotlib.pyplot as plt\n",
    "import seaborn as sns\n",
    "\n",
    "df = pd.read_csv(\"school_data.csv\")\n",
    "print(df.head())\n",
    "\n",
    "value_order = [\"NOT ENOUGH DATA\", \"VERY WEAK\", \"WEAK\", \"NEUTRAL\", \"STRONG\", \"VERY STRONG\"]\n",
    "\n",
    "type_of_data = \"ordinal\"\n",
    "\n",
    "# plot using .countplot() method here\n",
    "sns.countplot(df[\"Supportive Environment\"], order=value_order)\n",
    "plt.xticks(rotation=30)\n",
    "\n",
    "# show your plot here\n",
    "plt.show()"
   ]
  },
  {
   "cell_type": "code",
   "execution_count": null,
   "id": "a71164f4-f5b4-4179-944e-bacb447b006b",
   "metadata": {},
   "outputs": [],
   "source": [
    "#Pie charts\n",
    "import matplotlib.pyplot as plt\n",
    "import pandas as pd\n",
    "import codecademylib3\n",
    "\n",
    "water_usage = pd.read_csv(\"water_usage.csv\")\n",
    "print(water_usage.head())\n",
    "wedge_sizes = water_usage['prop']\n",
    "pie_labels = water_usage['water_source']\n",
    "\n",
    "plt.pie(wedge_sizes, labels = pie_labels)\n",
    "plt.axis('equal')\n",
    "plt.title(\"Distribution of House Water Usage\")\n",
    "plt.show()"
   ]
  },
  {
   "cell_type": "code",
   "execution_count": null,
   "id": "cd76c0c3-ea3d-4874-a8d0-63be0084b88c",
   "metadata": {},
   "outputs": [],
   "source": [
    "#Pîtfalls\n",
    "import matplotlib.pyplot as plt\n",
    "import seaborn as sns\n",
    "import pandas as pd\n",
    "import codecademylib3\n",
    "\n",
    "pie_data = pd.read_csv(\"pie_data.csv\")\n",
    "\n",
    "graph_counts = pie_data[\"values\"]\n",
    "\n",
    "graph_labels = pie_data[\"labels\"]\n",
    "\n",
    "plt.subplot(1,2,1)\n",
    "plt.pie(graph_counts, labels = graph_labels)\n",
    "plt.axis('Equal')\n",
    "plt.title(\"Tough to Compare\")\n",
    "\n",
    "plt.subplot(1,2,2)\n",
    "sns.barplot(graph_labels, graph_counts)\n",
    "plt.title(\"Easy to Compare\")\n",
    "plt.show()"
   ]
  },
  {
   "cell_type": "code",
   "execution_count": null,
   "id": "52362278-7c5d-4bdd-9563-e6fd90aa9662",
   "metadata": {},
   "outputs": [],
   "source": [
    "#Pie chart\n",
    "import matplotlib.pyplot as plt\n",
    "import seaborn as sns\n",
    "import pandas as pd\n",
    "import codecademylib3\n",
    "\n",
    "major_data = pd.read_csv(\"major_data.csv\")\n",
    "print(major_data.head())\n",
    "\n",
    "major_data_agg = pd.read_csv(\"major_data_agg.csv\")\n",
    "print(major_data_agg.head())\n",
    "\n",
    "pie_wedges = major_data[\"proportion\"]\n",
    "pie_labels = major_data[\"major\"]\n",
    "\n",
    "pie_wedges_agg = major_data_agg[\"proportion\"]\n",
    "pie_labels_agg = major_data_agg[\"department\"]\n",
    "\n",
    "plt.subplot(2,1,1)\n",
    "plt.pie(pie_wedges, labels = pie_labels)\n",
    "plt.axis('Equal')\n",
    "plt.title(\"Too Many Slices\")\n",
    "plt.tight_layout()\n",
    "\n",
    "plt.subplot(2,1,2)\n",
    "plt.pie(pie_wedges_agg, labels = pie_labels_agg)\n",
    "plt.axis('Equal')\n",
    "plt.title(\"Good Number of Slices\")\n",
    "plt.tight_layout()\n",
    "plt.show()"
   ]
  }
 ],
 "metadata": {
  "kernelspec": {
   "display_name": "Python 3 (ipykernel)",
   "language": "python",
   "name": "python3"
  },
  "language_info": {
   "codemirror_mode": {
    "name": "ipython",
    "version": 3
   },
   "file_extension": ".py",
   "mimetype": "text/x-python",
   "name": "python",
   "nbconvert_exporter": "python",
   "pygments_lexer": "ipython3",
   "version": "3.9.12"
  }
 },
 "nbformat": 4,
 "nbformat_minor": 5
}
