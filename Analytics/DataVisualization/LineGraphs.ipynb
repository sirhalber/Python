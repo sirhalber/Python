{
 "cells": [
  {
   "cell_type": "code",
   "execution_count": null,
   "id": "f459a079-f9c8-481e-bbf1-341e69edd0b4",
   "metadata": {},
   "outputs": [],
   "source": [
    "#Basic Line Plot\n",
    "import codecademylib\n",
    "from matplotlib import pyplot as plt\n",
    "\n",
    "days = [0, 1, 2, 3, 4, 5, 6]\n",
    "money_spent = [10, 12, 12, 10, 14, 22, 24]\n",
    "\n",
    "plt.plot(days, money_spent)\n",
    "plt.show()"
   ]
  },
  {
   "cell_type": "code",
   "execution_count": null,
   "id": "bea9a53d-7ba2-4c8b-ad89-5fc38f8657a1",
   "metadata": {},
   "outputs": [],
   "source": [
    "#Basic Line Plot II\n",
    "import codecademylib\n",
    "from matplotlib import pyplot as plt\n",
    "\n",
    "time = [0, 1, 2, 3, 4]\n",
    "revenue = [200, 400, 650, 800, 850]\n",
    "costs = [150, 500, 550, 550, 560]\n",
    "\n",
    "plt.plot(time, revenue)\n",
    "plt.plot(time, costs)\n",
    "plt.show()"
   ]
  },
  {
   "cell_type": "code",
   "execution_count": null,
   "id": "c589ab07-fe6c-495c-8cb0-f6022ac4da4d",
   "metadata": {},
   "outputs": [],
   "source": [
    "#Linestyles\n",
    "import codecademylib\n",
    "from matplotlib import pyplot as plt\n",
    "\n",
    "time = [0, 1, 2, 3, 4]\n",
    "revenue = [200, 400, 650, 800, 850]\n",
    "costs = [150, 500, 550, 550, 560]\n",
    "\n",
    "plt.plot(time, revenue, color = 'purple', linestyle = '--')\n",
    "plt.plot(time, costs, color = '#82edc9', marker = 's')\n",
    "plt.show()"
   ]
  },
  {
   "cell_type": "code",
   "execution_count": null,
   "id": "ae46624c-b09a-4935-93e2-53331f9228a4",
   "metadata": {},
   "outputs": [],
   "source": [
    "#Axis & Labels\n",
    "import codecademylib\n",
    "from matplotlib import pyplot as plt\n",
    "\n",
    "x = range(12)\n",
    "y = [3000, 3005, 3010, 2900, 2950, 3050, 3000, 3100, 2980, 2980, 2920, 3010]\n",
    "plt.plot(x, y)\n",
    "\n",
    "plt.axis([0, 12, 2900, 3100])\n",
    "\n",
    "plt.show()"
   ]
  },
  {
   "cell_type": "code",
   "execution_count": null,
   "id": "0d641fa2-20a1-4566-a9b2-989f56515c06",
   "metadata": {},
   "outputs": [],
   "source": [
    "#Labeling Axes\n",
    "import codecademylib\n",
    "from matplotlib import pyplot as plt\n",
    "\n",
    "x = range(12)\n",
    "y = [3000, 3005, 3010, 2900, 2950, 3050, 3000, 3100, 2980, 2980, 2920, 3010]\n",
    "plt.plot(x, y)\n",
    "plt.axis([0, 12, 2900, 3100])\n",
    "plt.xlabel('Time')\n",
    "plt.ylabel('Dollars spent on coffee')\n",
    "plt.title('My Last Twelve Years of Coffee Drinking')\n",
    "plt.show()"
   ]
  },
  {
   "cell_type": "code",
   "execution_count": null,
   "id": "53e6e58f-bfc4-4b83-b24f-274a5eae3bbd",
   "metadata": {},
   "outputs": [],
   "source": [
    "#Subplots\n",
    "import codecademylib\n",
    "from matplotlib import pyplot as plt\n",
    "\n",
    "months = range(12)\n",
    "temperature = [36, 36, 39, 52, 61, 72, 77, 75, 68, 57, 48, 48]\n",
    "flights_to_hawaii = [1200, 1300, 1100, 1450, 850, 750, 400, 450, 400, 860, 990, 1000]\n",
    "\n",
    "plt.subplot(1, 2, 1)\n",
    "plt.plot(months, temperature)\n",
    "plt.subplot(1, 2, 2)\n",
    "plt.plot(temperature, flights_to_hawaii, \"o\")\n",
    "plt.show()"
   ]
  },
  {
   "cell_type": "code",
   "execution_count": null,
   "id": "3a849e90-e0ed-4377-8860-c247a3e90b0c",
   "metadata": {},
   "outputs": [],
   "source": [
    "#Subplots II\n",
    "import codecademylib\n",
    "from matplotlib import pyplot as plt\n",
    "\n",
    "x = range(7)\n",
    "straight_line = [0, 1, 2, 3, 4, 5, 6]\n",
    "parabola = [0, 1, 4, 9, 16, 25, 36]\n",
    "cubic = [0, 1, 8, 27, 64, 125, 216]\n",
    "\n",
    "plt.subplot(2, 1, 1)\n",
    "plt.plot(x, straight_line)\n",
    "plt.subplot(2, 2, 3)\n",
    "plt.plot(x, parabola)\n",
    "plt.subplot(2, 2, 4)\n",
    "plt.plot(x, cubic)\n",
    "plt.subplots_adjust(bottom=0.2, wspace=0.35)\n",
    "plt.show()"
   ]
  },
  {
   "cell_type": "code",
   "execution_count": null,
   "id": "55cc110d-8efa-4497-be42-931c1ccdddc0",
   "metadata": {},
   "outputs": [],
   "source": [
    "#Legends\n",
    "import codecademylib\n",
    "from matplotlib import pyplot as plt\n",
    "\n",
    "months = range(12)\n",
    "hyrule = [63, 65, 68, 70, 72, 72, 73, 74, 71, 70, 68, 64]\n",
    "kakariko = [52, 52, 53, 68, 73, 74, 74, 76, 71, 62, 58, 54]\n",
    "gerudo = [98, 99, 99, 100, 99, 100, 98, 101, 101, 97, 98, 99]\n",
    "\n",
    "plt.plot(months, hyrule)\n",
    "plt.plot(months, kakariko)\n",
    "plt.plot(months, gerudo)\n",
    "\n",
    "#create your legend here\n",
    "legend_labels = [\"Hyrule\", \"Kakariko\", \"Gerudo Valley\"]\n",
    "plt.legend(legend_labels, loc = 8)\n",
    "plt.show()"
   ]
  },
  {
   "cell_type": "code",
   "execution_count": null,
   "id": "139db3b9-a3cb-4d3e-aff4-9e32684555f5",
   "metadata": {},
   "outputs": [],
   "source": [
    "#Modify Ticks\n",
    "import codecademylib\n",
    "from matplotlib import pyplot as plt\n",
    "\n",
    "month_names = [\"Jan\", \"Feb\", \"Mar\", \"Apr\", \"May\", \"Jun\", \"Jul\", \"Aug\", \"Sep\",\"Oct\", \"Nov\", \"Dec\"]\n",
    "\n",
    "months = range(12)\n",
    "conversion = [0.05, 0.08, 0.18, 0.28, 0.4, 0.66, 0.74, 0.78, 0.8, 0.81, 0.85, 0.85]\n",
    "\n",
    "plt.xlabel(\"Months\")\n",
    "plt.ylabel(\"Conversion\")\n",
    "\n",
    "plt.plot(months, conversion)\n",
    "\n",
    "# Your work here\n",
    "ax = plt.subplot()\n",
    "ax.set_xticks(months)\n",
    "ax.set_xticklabels(month_names)\n",
    "ax.set_yticks([0.10, 0.25, 0.5, 0.75])\n",
    "ax.set_yticklabels(['10%', '25%', '50%', '75%'])\n",
    "plt.show()"
   ]
  },
  {
   "cell_type": "code",
   "execution_count": null,
   "id": "ee367233-209a-433f-9ab7-f688c53eb90f",
   "metadata": {},
   "outputs": [],
   "source": [
    "#Figures\n",
    "import codecademylib\n",
    "from matplotlib import pyplot as plt\n",
    "\n",
    "word_length = [8, 11, 12, 11, 13, 12, 9, 9, 7, 9]\n",
    "power_generated = [753.9, 768.8, 780.1, 763.7, 788.5, 782, 787.2, 806.4, 806.2, 798.9]\n",
    "years = [2000, 2001, 2002, 2003, 2004, 2005, 2006, 2007, 2008, 2009]\n",
    "\n",
    "plt.close('all')\n",
    "plt.figure()\n",
    "plt.plot(years, word_length)\n",
    "plt.savefig('winning_word_lengths.png')\n",
    "\n",
    "plt.figure(figsize=(7,3))\n",
    "plt.plot(years, power_generated)\n",
    "plt.savefig('power_generated.png')"
   ]
  },
  {
   "cell_type": "code",
   "execution_count": null,
   "id": "5c582d51-aa4b-4ee7-9bf6-7bb728e088cf",
   "metadata": {},
   "outputs": [],
   "source": [
    "#Review\n",
    "import codecademylib\n",
    "from matplotlib import pyplot as plt\n",
    "\n",
    "#Define x, y1, y2\n",
    "x = [1, 2, 3, 4, 5]\n",
    "y1 = [10, 20, 30, 40, 50]\n",
    "y2 = [100, 200, 300, 400, 500]\n",
    "\n",
    "plt.plot(x, y1, color = 'pink', marker = 'o')\n",
    "plt.plot(x, y2, color = 'gray', marker = 'o')\n",
    "plt.title(\"Two Lines on One Graph\")\n",
    "plt.xlabel(\"Amazing X-axis\")\n",
    "plt.ylabel(\"Incredible Y-axis\")\n",
    "plt.legend([x, y1, y2], loc = 5)\n",
    "plt.show()"
   ]
  }
 ],
 "metadata": {
  "kernelspec": {
   "display_name": "Python 3 (ipykernel)",
   "language": "python",
   "name": "python3"
  },
  "language_info": {
   "codemirror_mode": {
    "name": "ipython",
    "version": 3
   },
   "file_extension": ".py",
   "mimetype": "text/x-python",
   "name": "python",
   "nbconvert_exporter": "python",
   "pygments_lexer": "ipython3",
   "version": "3.9.12"
  }
 },
 "nbformat": 4,
 "nbformat_minor": 5
}
