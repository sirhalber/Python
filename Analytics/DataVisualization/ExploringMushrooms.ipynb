{
 "cells": [
  {
   "cell_type": "code",
   "execution_count": null,
   "id": "1ef2d654-9113-4973-99ce-b6f5536e1409",
   "metadata": {},
   "outputs": [],
   "source": [
    "import matplotlib.pyplot as plt\n",
    "import pandas as pd\n",
    "import seaborn as sns\n",
    "import codecademylib3\n",
    "\n",
    "# load in the data\n",
    "df = pd.read_csv(\"mushroom_data.csv\")\n",
    "print(df.head())\n",
    "\n",
    "# list of all column headers\n",
    "columns = df.columns.tolist()\n",
    "print(df.dtypes)\n",
    "for i in columns:\n",
    "  #print(i)\n",
    "  sns.countplot(df[i], order=df[i].value_counts().index)\n",
    "  plt.xticks(rotation=30, fontsize=10)\n",
    "  plt.xlabel(i, fontsize=12)\n",
    "  plt.title(i + \" Value Counts\")\n",
    "  plt.show()\n",
    "  plt.clf()"
   ]
  }
 ],
 "metadata": {
  "kernelspec": {
   "display_name": "Python 3 (ipykernel)",
   "language": "python",
   "name": "python3"
  },
  "language_info": {
   "codemirror_mode": {
    "name": "ipython",
    "version": 3
   },
   "file_extension": ".py",
   "mimetype": "text/x-python",
   "name": "python",
   "nbconvert_exporter": "python",
   "pygments_lexer": "ipython3",
   "version": "3.9.12"
  }
 },
 "nbformat": 4,
 "nbformat_minor": 5
}
