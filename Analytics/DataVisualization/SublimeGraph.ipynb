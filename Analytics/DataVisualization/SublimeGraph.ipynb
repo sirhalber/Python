{
 "cells": [
  {
   "cell_type": "code",
   "execution_count": null,
   "id": "bbfa7fe7-7b0a-4c4c-9002-f9ddb18abf02",
   "metadata": {},
   "outputs": [],
   "source": [
    "import codecademylib\n",
    "from matplotlib import pyplot as plt\n",
    "\n",
    "months = [\"Jan\", \"Feb\", \"Mar\", \"Apr\", \"May\", \"Jun\", \"Jul\", \"Aug\", \"Sep\", \"Oct\", \"Nov\", \"Dec\"]\n",
    "\n",
    "visits_per_month = [9695, 7909, 10831, 12942, 12495, 16794, 14161, 12762, 12777, 12439, 10309, 8724]\n",
    "\n",
    "# numbers of limes of different species sold each month\n",
    "key_limes_per_month = [92.0, 109.0, 124.0, 70.0, 101.0, 79.0, 106.0, 101.0, 103.0, 90.0, 102.0, 106.0]\n",
    "persian_limes_per_month = [67.0, 51.0, 57.0, 54.0, 83.0, 90.0, 52.0, 63.0, 51.0, 44.0, 64.0, 78.0]\n",
    "blood_limes_per_month = [75.0, 75.0, 76.0, 71.0, 74.0, 77.0, 69.0, 80.0, 63.0, 69.0, 73.0, 82.0]\n",
    "\n",
    "# create your figure here\n",
    "plt.figure(figsize=(12,8))\n",
    "ax1 = plt.subplot(1,2,1)\n",
    "x_values = range(len(months))\n",
    "plt.plot(x_values, visits_per_month, marker = 'o')\n",
    "plt.xlabel(\"x values\")\n",
    "plt.ylabel(\"visits per month\")\n",
    "ax1.set_xticks(x_values)\n",
    "ax1.set_xticklabels(months)\n",
    "plt.title(\"Visits per Month\")\n",
    "\n",
    "ax2 = plt.subplot(1,2,2)\n",
    "plt.plot(x_values, key_limes_per_month, color = \"red\")\n",
    "plt.plot(x_values, persian_limes_per_month, color = \"grey\")\n",
    "plt.plot(x_values, blood_limes_per_month, color = \"green\")\n",
    "plt.legend(['key', 'persian', 'blood'])\n",
    "ax2.set_xticks(x_values)\n",
    "ax2.set_xticklabels(months)\n",
    "plt.title(\"Limes\")\n",
    "plt.savefig(\"limes.png\")\n",
    "plt.show()"
   ]
  }
 ],
 "metadata": {
  "kernelspec": {
   "display_name": "Python 3 (ipykernel)",
   "language": "python",
   "name": "python3"
  },
  "language_info": {
   "codemirror_mode": {
    "name": "ipython",
    "version": 3
   },
   "file_extension": ".py",
   "mimetype": "text/x-python",
   "name": "python",
   "nbconvert_exporter": "python",
   "pygments_lexer": "ipython3",
   "version": "3.9.12"
  }
 },
 "nbformat": 4,
 "nbformat_minor": 5
}
