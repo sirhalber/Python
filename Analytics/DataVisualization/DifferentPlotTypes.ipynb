{
 "cells": [
  {
   "cell_type": "code",
   "execution_count": null,
   "id": "5a50b684-e69c-4ede-8730-1c136254b675",
   "metadata": {},
   "outputs": [],
   "source": [
    "#Bar chart\n",
    "import codecademylib\n",
    "from matplotlib import pyplot as plt\n",
    "\n",
    "drinks = [\"cappuccino\", \"latte\", \"chai\", \"americano\", \"mocha\", \"espresso\"]\n",
    "sales =  [91, 76, 56, 66, 52, 27]\n",
    "\n",
    "plt.bar(range(len(drinks)), sales)\n",
    "plt.show()"
   ]
  },
  {
   "cell_type": "code",
   "execution_count": null,
   "id": "45b59b2d-691d-4833-91bf-0345aaf26dd6",
   "metadata": {},
   "outputs": [],
   "source": [
    "#Bar chart II\n",
    "import codecademylib\n",
    "from matplotlib import pyplot as plt\n",
    "\n",
    "drinks = [\"cappuccino\", \"latte\", \"chai\", \"americano\", \"mocha\", \"espresso\"]\n",
    "sales =  [91, 76, 56, 66, 52, 27]\n",
    "\n",
    "plt.bar(range(len(drinks)), sales)\n",
    "\n",
    "#create your ax object here\n",
    "ax = plt.subplot()\n",
    "ax.set_xticks(range(len(drinks)))\n",
    "ax.set_xticklabels(drinks)\n",
    "plt.show()"
   ]
  },
  {
   "cell_type": "code",
   "execution_count": null,
   "id": "9b642eff-87d0-450a-b61c-9876c0e7ecec",
   "metadata": {},
   "outputs": [],
   "source": [
    "#Side-by-side bars\n",
    "import codecademylib\n",
    "from matplotlib import pyplot as plt\n",
    "\n",
    "drinks = [\"cappuccino\", \"latte\", \"chai\", \"americano\", \"mocha\", \"espresso\"]\n",
    "sales1 =  [91, 76, 56, 66, 52, 27]\n",
    "sales2 = [65, 82, 36, 68, 38, 40]\n",
    "\n",
    "#Paste the x_values code here\n",
    "n = 1  # This is our first dataset (out of 2)\n",
    "t = 2 # Number of datasets\n",
    "d = 6 # Number of sets of bars\n",
    "w = 0.8 # Width of each bar\n",
    "store1_x = [t*element + w*n for element\n",
    "             in range(d)]\n",
    "plt.bar(store1_x, sales1)\n",
    "\n",
    "n = 2  # This is our second dataset (out of 2)\n",
    "t = 2 # Number of datasets\n",
    "d = 6 # Number of sets of bars\n",
    "w = 0.8 # Width of each bar\n",
    "store2_x = [t*element + w*n for element\n",
    "             in range(d)]\n",
    "plt.bar(store2_x, sales2)\n",
    "plt.show()"
   ]
  },
  {
   "cell_type": "code",
   "execution_count": null,
   "id": "ada42a2d-2456-4041-8ee3-b0bec5f5b551",
   "metadata": {},
   "outputs": [],
   "source": [
    "#Stacked bars\n",
    "import codecademylib\n",
    "from matplotlib import pyplot as plt\n",
    "\n",
    "drinks = [\"cappuccino\", \"latte\", \"chai\", \"americano\", \"mocha\", \"espresso\"]\n",
    "sales1 =  [91, 76, 56, 66, 52, 27]\n",
    "sales2 = [65, 82, 36, 68, 38, 40]\n",
    "\n",
    "plt.bar(range(len(drinks)), sales1)\n",
    "plt.bar(range(len(drinks)), sales2, bottom=sales2)\n",
    "plt.legend([\"Location 1\", \"Location 2\"])\n",
    "plt.show()"
   ]
  },
  {
   "cell_type": "code",
   "execution_count": null,
   "id": "e5790f9f-0592-496f-9d34-17c9a9137f6f",
   "metadata": {},
   "outputs": [],
   "source": [
    "#Error bars\n",
    "import codecademylib\n",
    "from matplotlib import pyplot as plt\n",
    "\n",
    "drinks = [\"cappuccino\", \"latte\", \"chai\", \"americano\", \"mocha\", \"espresso\"]\n",
    "ounces_of_milk = [6, 9, 4, 0, 9, 0]\n",
    "error = [0.6, 0.9, 0.4, 0, 0.9, 0]\n",
    "\n",
    "# Plot the bar graph here\n",
    "plt.bar(range(len(drinks)), ounces_of_milk, yerr = error, capsize = 5)\n",
    "plt.show()"
   ]
  },
  {
   "cell_type": "code",
   "execution_count": null,
   "id": "d1a7a3f7-f652-47bc-9bd6-677db435f391",
   "metadata": {},
   "outputs": [],
   "source": [
    "#Fill between\n",
    "import codecademylib\n",
    "from matplotlib import pyplot as plt\n",
    "\n",
    "months = range(12)\n",
    "month_names = [\"Jan\", \"Feb\", \"Mar\", \"Apr\", \"May\", \"Jun\", \"Jul\", \"Aug\", \"Sep\", \"Oct\", \"Nov\", \"Dec\"]\n",
    "revenue = [16000, 14000, 17500, 19500, 21500, 21500, 22000, 23000, 20000, 19500, 18000, 16500]\n",
    "\n",
    "#your work here\n",
    "plt.plot(months, revenue)\n",
    "ax = plt.subplot()\n",
    "ax.set_xticks(months)\n",
    "ax.set_xticklabels(month_names)\n",
    "y_lower = [0.9 * i for i in revenue]\n",
    "y_upper = [1.1 * i for i in revenue]\n",
    "plt.fill_between(months, y_lower, y_upper, alpha=0.2)\n",
    "plt.show()"
   ]
  },
  {
   "cell_type": "code",
   "execution_count": null,
   "id": "85e04eca-8ca1-43fd-81dc-faf67f925756",
   "metadata": {},
   "outputs": [],
   "source": [
    "#Pie chart\n",
    "import codecademylib\n",
    "from matplotlib import pyplot as plt\n",
    "import numpy as np\n",
    "\n",
    "payment_method_names = [\"Card Swipe\", \"Cash\", \"Apple Pay\", \"Other\"]\n",
    "payment_method_freqs = [270, 77, 32, 11]\n",
    "\n",
    "#make your pie chart here\n",
    "plt.pie(payment_method_freqs)\n",
    "plt.axis('equal')\n",
    "plt.show()"
   ]
  },
  {
   "cell_type": "code",
   "execution_count": null,
   "id": "07979e95-d94a-4e89-98da-170198ed7f40",
   "metadata": {},
   "outputs": [],
   "source": [
    "#Pie chart labeling\n",
    "import codecademylib\n",
    "from matplotlib import pyplot as plt\n",
    "\n",
    "payment_method_names = [\"Card Swipe\", \"Cash\", \"Apple Pay\", \"Other\"]\n",
    "payment_method_freqs = [270, 77, 32, 11]\n",
    "\n",
    "plt.pie(payment_method_freqs, autopct = '%0.1f%%')\n",
    "plt.axis('equal')\n",
    "plt.legend(payment_method_names)\n",
    "plt.show()"
   ]
  },
  {
   "cell_type": "code",
   "execution_count": null,
   "id": "3ee1fb81-2828-4fb5-932f-be99f657916b",
   "metadata": {},
   "outputs": [],
   "source": [
    "#Histogram\n",
    "import codecademylib\n",
    "from matplotlib import pyplot as plt\n",
    "from script import sales_times\n",
    "\n",
    "#create the histogram here\n",
    "plt.hist(sales_times, bins=20)\n",
    "plt.show()"
   ]
  },
  {
   "cell_type": "code",
   "execution_count": null,
   "id": "97c5e72f-5da2-4f54-a442-e0ef34f7cf7c",
   "metadata": {},
   "outputs": [],
   "source": [
    "#Multiple Histograms\n",
    "import codecademylib\n",
    "from matplotlib import pyplot as plt\n",
    "from script import sales_times1\n",
    "from script import sales_times2\n",
    "\n",
    "plt.hist(sales_times1, bins=20, alpha=0.4, normed=True)\n",
    "#plot your other histogram here\n",
    "plt.hist(sales_times2, bins=20, alpha=0.4, normed=True)\n",
    "plt.show()"
   ]
  }
 ],
 "metadata": {
  "kernelspec": {
   "display_name": "Python 3 (ipykernel)",
   "language": "python",
   "name": "python3"
  },
  "language_info": {
   "codemirror_mode": {
    "name": "ipython",
    "version": 3
   },
   "file_extension": ".py",
   "mimetype": "text/x-python",
   "name": "python",
   "nbconvert_exporter": "python",
   "pygments_lexer": "ipython3",
   "version": "3.9.12"
  }
 },
 "nbformat": 4,
 "nbformat_minor": 5
}
