{
 "cells": [
  {
   "cell_type": "code",
   "execution_count": null,
   "id": "b5af1907-4b91-4f7f-9f80-e21133ff03ca",
   "metadata": {},
   "outputs": [],
   "source": [
    "#Get a key\n",
    "zodiac_elements = {\"water\": [\"Cancer\", \"Scorpio\", \"Pisces\"], \"fire\": [\"Aries\", \"Leo\", \"Sagittarius\"], \"earth\": [\"Taurus\", \"Virgo\", \"Capricorn\"], \"air\":[\"Gemini\", \"Libra\", \"Aquarius\"]}\n",
    "\n",
    "print(zodiac_elements[\"earth\"])\n",
    "print(zodiac_elements[\"fire\"])"
   ]
  },
  {
   "cell_type": "code",
   "execution_count": null,
   "id": "c2d7ccec-c510-4f74-8e02-95fedf426d93",
   "metadata": {},
   "outputs": [],
   "source": [
    "zodiac_elements = {\"water\": [\"Cancer\", \"Scorpio\", \"Pisces\"], \"fire\": [\"Aries\", \"Leo\", \"Sagittarius\"], \"earth\": [\"Taurus\", \"Virgo\", \"Capricorn\"], \"air\":[\"Gemini\", \"Libra\", \"Aquarius\"]}\n",
    "\n",
    "zodiac_elements[\"energy\"] = \"Not a Zodiac element\"\n",
    "if \"energy\" in zodiac_elements:\n",
    "  print(zodiac_elements[\"energy\"])"
   ]
  },
  {
   "cell_type": "code",
   "execution_count": null,
   "id": "404b071f-74da-4b14-b889-e60bdb01b7e5",
   "metadata": {},
   "outputs": [],
   "source": [
    "#Try/get\n",
    "caffeine_level = {\"espresso\": 64, \"chai\": 40, \"decaf\": 0, \"drip\": 120}\n",
    "caffeine_level[\"matcha\"] = 30\n",
    "try:\n",
    "  print(caffeine_level[\"matcha\"])\n",
    "except KeyError:\n",
    "  print(\"Unknown Caffeine Level\")"
   ]
  },
  {
   "cell_type": "code",
   "execution_count": null,
   "id": "55e54113-57ac-4d95-baad-2afcc8965c67",
   "metadata": {},
   "outputs": [],
   "source": [
    "#Safely get keys\n",
    "user_ids = {\"teraCoder\": 100019, \"pythonGuy\": 182921, \"samTheJavaMaam\": 123112, \"lyleLoop\": 102931, \"keysmithKeith\": 129384}\n",
    "tc_id = user_ids.get('teraCoder', 100000)\n",
    "print(tc_id)\n",
    "stack_id = user_ids.get('superStackSmash', 100000)\n",
    "print(stack_id)"
   ]
  },
  {
   "cell_type": "code",
   "execution_count": null,
   "id": "2eda44f1-69ad-4cb4-af08-9d888d13c819",
   "metadata": {},
   "outputs": [],
   "source": [
    "#Delete a key\n",
    "available_items = {\"health potion\": 10, \"cake of the cure\": 5, \"green elixir\": 20, \"strength sandwich\": 25, \"stamina grains\": 15, \"power stew\": 30}\n",
    "health_points = 20\n",
    "\n",
    "health_points += available_items.pop(\"stamina grains\", 0)\n",
    "health_points += available_items.pop(\"power stew\", 0)\n",
    "health_points += available_items.pop(\"mystic bread\", 0)\n",
    "\n",
    "print(available_items)\n",
    "print(health_points)"
   ]
  },
  {
   "cell_type": "code",
   "execution_count": null,
   "id": "f699ce93-d603-4a8b-805d-1c974ae670d8",
   "metadata": {},
   "outputs": [],
   "source": [
    "#Get all keys\n",
    "user_ids = {\"teraCoder\": 100019, \"pythonGuy\": 182921, \"samTheJavaMaam\": 123112, \"lyleLoop\": 102931, \"keysmithKeith\": 129384}\n",
    "num_exercises = {\"functions\": 10, \"syntax\": 13, \"control flow\": 15, \"loops\": 22, \"lists\": 19, \"classes\": 18, \"dictionaries\": 18}\n",
    "\n",
    "users = user_ids.keys()\n",
    "lessons = num_exercises.keys()\n",
    "\n",
    "print(users)\n",
    "print(lessons)"
   ]
  },
  {
   "cell_type": "code",
   "execution_count": null,
   "id": "87937f20-7e82-4ec6-8ed1-d043d1891964",
   "metadata": {},
   "outputs": [],
   "source": [
    "#Get all values\n",
    "num_exercises = {\"functions\": 10, \"syntax\": 13, \"control flow\": 15, \"loops\": 22, \"lists\": 19, \"classes\": 18, \"dictionaries\": 18}\n",
    "\n",
    "total_exercises = 0\n",
    "\n",
    "for exercises in num_exercises.values():\n",
    "  total_exercises += exercises\n",
    "print(total_exercises)"
   ]
  },
  {
   "cell_type": "code",
   "execution_count": null,
   "id": "0cb45685-4a2d-452b-adcb-78f9def150c3",
   "metadata": {},
   "outputs": [],
   "source": [
    "#Get all items\n",
    "pct_women_in_occupation = {\"CEO\": 28, \"Engineering Manager\": 9, \"Pharmacist\": 58, \"Physician\": 40, \"Lawyer\": 37, \"Aerospace Engineer\": 9}\n",
    "for position, value in pct_women_in_occupation.items():\n",
    "  print(\"Women make up \" + str(value) + \" percent of \" + position + \"s.\")"
   ]
  },
  {
   "cell_type": "code",
   "execution_count": null,
   "id": "c8a0570e-5939-4bd1-9dcc-b8623cd377d8",
   "metadata": {},
   "outputs": [],
   "source": [
    "#Review\n",
    "tarot = { 1:\t\"The Magician\", 2:\t\"The High Priestess\", 3:\t\"The Empress\", 4:\t\"The Emperor\", 5:\t\"The Hierophant\", 6:\t\"The Lovers\", 7:\t\"The Chariot\", 8:\t\"Strength\", 9:\t\"The Hermit\", 10:\t\"Wheel of Fortune\", 11:\t\"Justice\", 12:\t\"The Hanged Man\", 13:\t\"Death\", 14:\t\"Temperance\", 15:\t\"The Devil\", 16:\t\"The Tower\", 17:\t\"The Star\", 18:\t\"The Moon\", 19:\t\"The Sun\", 20:\t\"Judgement\", 21:\t\"The World\", 22: \"The Fool\"}\n",
    "\n",
    "spread = {}\n",
    "\n",
    "spread[\"past\"] = tarot.pop(13)\n",
    "spread[\"present\"] = tarot.pop(22)\n",
    "spread[\"future\"] = tarot.pop(10)\n",
    "\n",
    "for key, value in spread.items():\n",
    "  print(\"Your \"+key+\" is the \"+value+\" card. \")"
   ]
  }
 ],
 "metadata": {
  "kernelspec": {
   "display_name": "Python 3 (ipykernel)",
   "language": "python",
   "name": "python3"
  },
  "language_info": {
   "codemirror_mode": {
    "name": "ipython",
    "version": 3
   },
   "file_extension": ".py",
   "mimetype": "text/x-python",
   "name": "python",
   "nbconvert_exporter": "python",
   "pygments_lexer": "ipython3",
   "version": "3.9.12"
  }
 },
 "nbformat": 4,
 "nbformat_minor": 5
}
