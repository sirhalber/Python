{
 "cells": [
  {
   "cell_type": "code",
   "execution_count": null,
   "id": "1313ebd0-a9dc-40b4-b5ea-359468135de9",
   "metadata": {},
   "outputs": [],
   "source": [
    "paintings = [\"The Two Fridas\", \"My Dress Hangs Here\", \"Tree of Hope\", \"Self Portrait With Monkeys\"]\n",
    "dates = [1939, 1933, 1946, 1940]\n",
    "paintings = list(zip(paintings, dates))\n",
    "print(paintings)\n",
    "paintings.append((\"The Broken Column\", 1944))\n",
    "paintings.append((\"The Wounded Deer\", 1946))\n",
    "paintings.append((\"Me and My Doll\", 1937))\n",
    "print(paintings)\n",
    "print(len(paintings))\n",
    "audio_tour_number=[x for x in range(1, len(paintings)+1)]\n",
    "print(audio_tour_number)\n",
    "master_list = list(zip(audio_tour_number, paintings))\n",
    "print(master_list)\n"
   ]
  }
 ],
 "metadata": {
  "kernelspec": {
   "display_name": "Python 3 (ipykernel)",
   "language": "python",
   "name": "python3"
  },
  "language_info": {
   "codemirror_mode": {
    "name": "ipython",
    "version": 3
   },
   "file_extension": ".py",
   "mimetype": "text/x-python",
   "name": "python",
   "nbconvert_exporter": "python",
   "pygments_lexer": "ipython3",
   "version": "3.9.12"
  }
 },
 "nbformat": 4,
 "nbformat_minor": 5
}
