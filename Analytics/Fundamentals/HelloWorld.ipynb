{
 "cells": [
  {
   "cell_type": "code",
   "execution_count": null,
   "id": "deed1c8a-72e2-4620-910e-14a681686ecf",
   "metadata": {},
   "outputs": [],
   "source": [
    "#Print + variable\n",
    "my_name = \"Alberto\"\n",
    "print(\"Hello and welcome \" + my_name + \"!\")"
   ]
  },
  {
   "cell_type": "code",
   "execution_count": null,
   "id": "76255194-2974-4f58-80a0-3bba6b9b9567",
   "metadata": {},
   "outputs": [],
   "source": [
    "# We've defined the variable \"meal\" here to the name of the food we ate for breakfast!\n",
    "meal = \"An english muffin\"\n",
    "\n",
    "# Printing out breakfast\n",
    "print(\"Breakfast:\")\n",
    "print(meal)\n",
    "\n",
    "# Now update meal to be lunch!\n",
    "meal = \"Meatballs\"\n",
    "\n",
    "# Printing out lunch\n",
    "print(\"Lunch:\")\n",
    "print(meal)\n",
    "\n",
    "# Now update \"meal\" to be dinner\n",
    "meal = \"Spinach\"\n",
    "\n",
    "# Printing out dinner\n",
    "print(\"Dinner:\")\n",
    "print(meal)"
   ]
  },
  {
   "cell_type": "code",
   "execution_count": null,
   "id": "4d5ccd44-d33e-440d-b75f-b29c9676a089",
   "metadata": {},
   "outputs": [],
   "source": [
    "# Define the release and runtime integer variables below:\n",
    "release_year = 2020\n",
    "runtime = 2\n",
    "\n",
    "# Define the rating_out_of_10 float variable below: \n",
    "rating_out_of_10 = 9."
   ]
  },
  {
   "cell_type": "code",
   "execution_count": null,
   "id": "b91948c8-298e-4760-a3ac-0a63b8386d5f",
   "metadata": {},
   "outputs": [],
   "source": [
    "print(25 * 68 + 13 / 28)"
   ]
  },
  {
   "cell_type": "code",
   "execution_count": null,
   "id": "274ab2cb-9f24-4e61-9411-0553e0d808b8",
   "metadata": {},
   "outputs": [],
   "source": [
    "quilt_width = 8.0\n",
    "quilt_length = 8.0\n",
    "\n",
    "print(quilt_width * quilt_length)"
   ]
  },
  {
   "cell_type": "code",
   "execution_count": null,
   "id": "a2f8671d-1866-48fe-b83f-69864b17b93e",
   "metadata": {},
   "outputs": [],
   "source": [
    "# Calculation of squares for:\n",
    "# 6x6 quilt\n",
    "print(6 ** 2)\n",
    "\n",
    "# 7x7 quilt\n",
    "print(7 ** 2)\n",
    "\n",
    "# 8x8 quilt\n",
    "print(8 ** 2)\n",
    "\n",
    "# How many squares for 6 people to have 6 quilts each that are 6x6?\n",
    "print (6 ** 4)"
   ]
  },
  {
   "cell_type": "code",
   "execution_count": null,
   "id": "3f790fb2-0606-4596-a2d6-fa13e58fb652",
   "metadata": {},
   "outputs": [],
   "source": [
    "my_team = 27 % 4\n",
    "print(my_team)\n",
    "\n",
    "print(26 % 4)\n",
    "print(28 % 4)"
   ]
  },
  {
   "cell_type": "code",
   "execution_count": null,
   "id": "d516336a-4fe9-456b-9e86-d8a51535389a",
   "metadata": {},
   "outputs": [],
   "source": [
    "string1 = \"The wind, \"\n",
    "string2 = \"which had hitherto carried us along with amazing rapidity, \"\n",
    "string3 = \"sank at sunset to a light breeze; \"\n",
    "string4 = \"the soft air just ruffled the water and \"\n",
    "string5 = \"caused a pleasant motion among the trees as we approached the shore, \"\n",
    "string6 = \"from which it wafted the most delightful scent of flowers and hay.\"\n",
    "\n",
    "# Define message below:\n",
    "message = string1 + string2 + string3 + string4 + string5 + string6\n",
    "\n",
    "#print(message)\n",
    "print(message)"
   ]
  },
  {
   "cell_type": "code",
   "execution_count": null,
   "id": "7de0dfe3-9b55-4815-afb8-d912e60e031c",
   "metadata": {},
   "outputs": [],
   "source": [
    "total_price = 0\n",
    "new_sneakers = 50.00\n",
    "total_price += new_sneakers\n",
    "nice_sweater = 39.00\n",
    "fun_books = 20.00\n",
    "\n",
    "# Update total_price here:\n",
    "total_price += nice_sweater\n",
    "total_price += fun_books\n",
    "print(\"The total price is\", total_price)"
   ]
  }
 ],
 "metadata": {
  "kernelspec": {
   "display_name": "Python 3 (ipykernel)",
   "language": "python",
   "name": "python3"
  },
  "language_info": {
   "codemirror_mode": {
    "name": "ipython",
    "version": 3
   },
   "file_extension": ".py",
   "mimetype": "text/x-python",
   "name": "python",
   "nbconvert_exporter": "python",
   "pygments_lexer": "ipython3",
   "version": "3.9.12"
  }
 },
 "nbformat": 4,
 "nbformat_minor": 5
}
