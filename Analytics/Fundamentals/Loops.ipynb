{
 "cells": [
  {
   "cell_type": "code",
   "execution_count": null,
   "id": "6deaf14e-363c-4d44-9311-08f655b02db9",
   "metadata": {},
   "outputs": [],
   "source": [
    "#for\n",
    "board_games = [\"Settlers of Catan\", \"Carcassone\", \"Power Grid\", \"Agricola\", \"Scrabble\"]\n",
    "\n",
    "sport_games = [\"football\", \"hockey\", \"baseball\", \"cricket\"]\n",
    "\n",
    "for game in board_games:\n",
    "  print(game)\n",
    "\n",
    "for sport in sport_games:\n",
    "  print(sport)"
   ]
  },
  {
   "cell_type": "code",
   "execution_count": null,
   "id": "dbb31cd3-394c-4313-9c81-7b176d6e8a16",
   "metadata": {},
   "outputs": [],
   "source": [
    "#using a range\n",
    "promise = \"I will finish the python loops module!\"\n",
    "for i in range(5):\n",
    "  print(promise)"
   ]
  },
  {
   "cell_type": "code",
   "execution_count": null,
   "id": "67e33001-1e8e-4d8f-b28b-582c746f06a0",
   "metadata": {},
   "outputs": [],
   "source": [
    "# While Loop Walkthrough\n",
    "count = 0\n",
    "print(\"Starting While Loop\")\n",
    "while count <= 3:\n",
    "  # Loop Body\n",
    "  # Print if the condition is still true\n",
    "  print(\"Loop Iteration - count <= 3 is still true\")\n",
    "  # Print the current value of count \n",
    "  print(\"Count is currently \" + str(count))\n",
    "  # Increment count\n",
    "  count += 1\n",
    "  print(\" ----- \")\n",
    "print(\"While Loop ended\")\n",
    "\n",
    "# Your code below: \n",
    "countdown = 10\n",
    "while countdown >= 0:\n",
    "  print(countdown)\n",
    "  countdown += -1\n",
    "print(\"We have liftoff!\")"
   ]
  },
  {
   "cell_type": "code",
   "execution_count": null,
   "id": "59587c08-b8af-4883-9fcb-37ff14b05019",
   "metadata": {},
   "outputs": [],
   "source": [
    "#While lists\n",
    "python_topics = [\"variables\", \"control flow\", \"loops\", \"modules\", \"classes\"]\n",
    "\n",
    "#Your code below: \n",
    "length = len(python_topics)\n",
    "index = 0\n",
    "while index < length:\n",
    "  print(\"I am learning about \" + python_topics[index])\n",
    "  index += 1"
   ]
  },
  {
   "cell_type": "code",
   "execution_count": null,
   "id": "a447ed37-7746-4e02-bd31-3b694223da59",
   "metadata": {},
   "outputs": [],
   "source": [
    "#break\n",
    "dog_breeds_available_for_adoption = [\"french_bulldog\", \"dalmatian\", \"shihtzu\", \"poodle\", \"collie\"]\n",
    "dog_breed_I_want = \"dalmatian\"\n",
    "for dog_breed in dog_breeds_available_for_adoption:\n",
    "  print(dog_breed)\n",
    "  if dog_breed == dog_breed_I_want:\n",
    "    print(\"They have the dog I want!\")\n",
    "    break"
   ]
  },
  {
   "cell_type": "code",
   "execution_count": null,
   "id": "b7935efe-ef69-4da3-84ab-924f0b54a08c",
   "metadata": {},
   "outputs": [],
   "source": [
    "#continue\n",
    "ages = [12, 38, 34, 26, 21, 19, 67, 41, 17]\n",
    "for age in ages:\n",
    "  if age < 21:\n",
    "    continue\n",
    "  print(age)"
   ]
  },
  {
   "cell_type": "code",
   "execution_count": null,
   "id": "6fbcc00a-28a4-4ccb-a332-902f13834062",
   "metadata": {},
   "outputs": [],
   "source": [
    "#Nested loops\n",
    "sales_data = [[12, 17, 22], [2, 10, 3], [5, 12, 13]]\n",
    "scoops_sold = 0\n",
    "for location in sales_data:\n",
    "  print(location)\n",
    "  for i in location:\n",
    "    scoops_sold = i + scoops_sold \n",
    "print(scoops_sold)"
   ]
  },
  {
   "cell_type": "code",
   "execution_count": null,
   "id": "afc9bb8b-2dd9-40f9-b8e6-81f32b625713",
   "metadata": {},
   "outputs": [],
   "source": [
    "#List Comprehensions\n",
    "grades = [90, 88, 62, 76, 74, 89, 48, 57]\n",
    "scaled_grades = [grade + 10 for grade in grades]\n",
    "print(scaled_grades)"
   ]
  },
  {
   "cell_type": "code",
   "execution_count": null,
   "id": "838f30ab-7878-4679-a604-42febe681c2e",
   "metadata": {},
   "outputs": [],
   "source": [
    "#List Comprehensions / Conditionals\n",
    "heights = [161, 164, 156, 144, 158, 170, 163, 163, 157]\n",
    "can_ride_coaster = [num for num in heights if num > 161]\n",
    "print(can_ride_coaster)"
   ]
  },
  {
   "cell_type": "code",
   "execution_count": null,
   "id": "2291525b-c5fc-4926-943f-0054680c0d0c",
   "metadata": {},
   "outputs": [],
   "source": [
    "#Review\n",
    "single_digits = list(range(10))\n",
    "squares = []\n",
    "for i in single_digits:\n",
    "    print(i)\n",
    "    squares.append(i**2)\n",
    "print(squares)\n",
    "cubes = [i**3 for i in single_digits]\n",
    "print(cubes)"
   ]
  }
 ],
 "metadata": {
  "kernelspec": {
   "display_name": "Python 3 (ipykernel)",
   "language": "python",
   "name": "python3"
  },
  "language_info": {
   "codemirror_mode": {
    "name": "ipython",
    "version": 3
   },
   "file_extension": ".py",
   "mimetype": "text/x-python",
   "name": "python",
   "nbconvert_exporter": "python",
   "pygments_lexer": "ipython3",
   "version": "3.9.12"
  }
 },
 "nbformat": 4,
 "nbformat_minor": 5
}
