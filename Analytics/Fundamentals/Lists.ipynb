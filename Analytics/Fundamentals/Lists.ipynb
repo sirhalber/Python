{
 "cells": [
  {
   "cell_type": "code",
   "execution_count": null,
   "id": "4681f439-4c2c-437c-9307-f7d0624c297b",
   "metadata": {},
   "outputs": [],
   "source": [
    "#Lists\n",
    "heights = [61, 70, 67, 64, 65]\n",
    "\n",
    "broken_heights = [65, 71, 59, 62]"
   ]
  },
  {
   "cell_type": "code",
   "execution_count": null,
   "id": "e5b21418-9bef-41e9-8bba-bc2a4f719a4a",
   "metadata": {},
   "outputs": [],
   "source": [
    "ints_and_strings = [1, 2, 3, \"four\", \"five\", \"Alberto\"]\n",
    "\n",
    "sam_height_and_testscore = [\"Sam\", 67, 85.5, True]"
   ]
  },
  {
   "cell_type": "code",
   "execution_count": null,
   "id": "8e9f07c2-b30a-4e45-bd29-862ea4718453",
   "metadata": {},
   "outputs": [],
   "source": [
    "#append\n",
    "orders = [\"daisies\", \"periwinkle\"]\n",
    "\n",
    "print(orders)\n",
    "\n",
    "orders.append(\"tulips\")\n",
    "orders.append(\"roses\")\n",
    "print(orders)"
   ]
  },
  {
   "cell_type": "code",
   "execution_count": null,
   "id": "155e2d03-ce81-4b71-951c-e8969b2341a2",
   "metadata": {},
   "outputs": [],
   "source": [
    "#Growing a list\n",
    "orders = [\"daisy\", \"buttercup\", \"snapdragon\", \"gardenia\", \"lily\"]\n",
    "\n",
    "# Create new orders here:\n",
    "new_orders = [\"lilac\", \"iris\"] \n",
    "orders_combined = orders + new_orders\n",
    "\n",
    "\n",
    "broken_prices = [5, 3, 4, 5, 4] + [4]"
   ]
  },
  {
   "cell_type": "code",
   "execution_count": null,
   "id": "30f8f9e7-5647-42bc-8ce8-e379f7659d95",
   "metadata": {},
   "outputs": [],
   "source": [
    "#List elements\n",
    "employees = [\"Michael\", \"Dwight\", \"Jim\", \"Pam\", \"Ryan\", \"Andy\", \"Robert\"]\n",
    "employee_four = employees[3]\n",
    "print(employees[-1])\n",
    "\n",
    "shopping_list = [\"eggs\", \"butter\", \"milk\", \"cucumbers\", \"juice\", \"cereal\"]\n",
    "last_element = shopping_list[-1]\n",
    "index5_element = shopping_list[5]\n",
    "print(last_element)\n",
    "print(index5_element)\n",
    "\n",
    "garden_waitlist = [\"Jiho\", \"Adam\", \"Sonny\", \"Alisha\"]\n",
    "garden_waitlist[1] = \"Calla\"\n",
    "garden_waitlist[-1] = \"Alex\"\n",
    "print(garden_waitlist)\n",
    "\n",
    "order_list = [\"Celery\", \"Orange Juice\", \"Orange\", \"Flatbread\"]\n",
    "order_list.remove(\"Flatbread\")\n",
    "print(order_list)\n",
    "\n",
    "new_store_order_list = [\"Orange\", \"Apple\", \"Mango\", \"Broccoli\", \"Mango\"]\n",
    "new_store_order_list.remove(\"Mango\")\n",
    "new_store_order_list.remove(\"Onions\")\n",
    "print(new_store_order_list)"
   ]
  },
  {
   "cell_type": "code",
   "execution_count": null,
   "id": "e43b11bc-51a0-42bd-aea4-582c5166f2d4",
   "metadata": {},
   "outputs": [],
   "source": [
    "#2D lists\n",
    "heights = [[\"Jenny\", 61], [\"Alexus\", 70], [\"Sam\", 67], [\"Grace\", 64], [\"Vik\", 68]]\n",
    "ages = [[\"Aaron\", 15], [\"Dhruti\", 16]]\n",
    "\n",
    "class_name_test = [[\"Jenny\", 90], [\"Alexus\", 85.5], [\"Sam\", 83], [\"Ellie\", 101.5]]\n",
    "print(class_name_test)\n",
    "sams_score = class_name_test[2][1]\n",
    "print(sams_score)\n",
    "ellies_score = class_name_test[-1][-1]\n",
    "print(ellies_score)\n",
    "\n",
    "incoming_class = [[\"Kenny\", \"American\", 9], [\"Tanya\", \"Russian\", 9], [\"Madison\", \"Indian\", 7]]\n",
    "print(incoming_class)\n",
    "incoming_class[2][2] = 8\n",
    "print(incoming_class)\n",
    "incoming_class[-3][-3] = \"Ken\"\n",
    "print(incoming_class)"
   ]
  },
  {
   "cell_type": "code",
   "execution_count": null,
   "id": "8b5b0e56-c043-4caa-b9f8-6c93058866a4",
   "metadata": {},
   "outputs": [],
   "source": [
    "#Review\n",
    "first_names = [\"Ainsley\", \"Ben\", \"Chani\", \"Depak\"]\n",
    "preferred_size = [\"Small\", \"Large\", \"Medium\"]\n",
    "preferred_size.append(\"Medium\")\n",
    "print(preferred_size)\n",
    "customer_data = [[\"Ainsley\", \"Small\", True], [\"Ben\", \"Large\", False], [\"Chani\", \"Medium\", True], [\"Depak\", \"Medium\", False]]\n",
    "print(customer_data)\n",
    "customer_data[2][-1] = False\n",
    "customer_data[1].remove(customer_data[1][2])\n",
    "new_customer_data = [[\"Amit\", \"Large\", True], [\"Karim\", \"X-Large\", False]]\n",
    "customer_data_final = customer_data + new_customer_data\n",
    "print(customer_data_final)"
   ]
  }
 ],
 "metadata": {
  "kernelspec": {
   "display_name": "Python 3 (ipykernel)",
   "language": "python",
   "name": "python3"
  },
  "language_info": {
   "codemirror_mode": {
    "name": "ipython",
    "version": 3
   },
   "file_extension": ".py",
   "mimetype": "text/x-python",
   "name": "python",
   "nbconvert_exporter": "python",
   "pygments_lexer": "ipython3",
   "version": "3.9.12"
  }
 },
 "nbformat": 4,
 "nbformat_minor": 5
}
