{
 "cells": [
  {
   "cell_type": "code",
   "execution_count": null,
   "id": "08762c78-33a2-4e9d-b472-7a8d0beb743d",
   "metadata": {},
   "outputs": [],
   "source": [
    "#If\n",
    "# Enter a user name here, make sure to make it a string\n",
    "user_name = \"angela_catlady_87\"\n",
    "\n",
    "if user_name == \"Dave\":\n",
    "  print(\"Get off my computer Dave!\")\n",
    "\n",
    "if user_name == \"angela_catlady_87\":\n",
    "  print(\"I know it is you, Dave! Go away!\")"
   ]
  },
  {
   "cell_type": "code",
   "execution_count": null,
   "id": "5b88308d-1f06-4f6f-bf86-3a4a13c04b05",
   "metadata": {},
   "outputs": [],
   "source": [
    "#If II\n",
    "x = 20\n",
    "y = 20\n",
    "\n",
    "# Write the first if statement here:\n",
    "if x == y:\n",
    "  print(\"These numbers are the same\")\n",
    "\n",
    "\n",
    "credits = 120\n",
    "\n",
    "# Write the second if statement here:\n",
    "if credits >= 120:\n",
    "  print(\"You have enough credits to graduate!\")"
   ]
  },
  {
   "cell_type": "code",
   "execution_count": null,
   "id": "fc85b688-570c-4e10-ba35-07213f90900b",
   "metadata": {},
   "outputs": [],
   "source": [
    "#and\n",
    "statement_one = False\n",
    "\n",
    "statement_two = True\n",
    "\n",
    "credits = 120\n",
    "gpa = 3.4\n",
    "\n",
    "if credits >= 120 and gpa >= 2.0:\n",
    "  print(\"You meet the requirements to graduate!\")"
   ]
  },
  {
   "cell_type": "code",
   "execution_count": null,
   "id": "66029822-0590-4529-8f3a-9b20d15f6875",
   "metadata": {},
   "outputs": [],
   "source": [
    "#or\n",
    "statement_one = True\n",
    "\n",
    "statement_two = True\n",
    "\n",
    "credits = 118\n",
    "gpa = 2.0\n",
    "if credits >= 120 or gpa >= 2.0:\n",
    "  print(\"You have met at least one of the requirements.\")"
   ]
  },
  {
   "cell_type": "code",
   "execution_count": null,
   "id": "3cb1140a-f125-4ff4-b20a-a859b45311eb",
   "metadata": {},
   "outputs": [],
   "source": [
    "#not\n",
    "statement_one = False\n",
    "\n",
    "statement_two = True\n",
    "\n",
    "credits = 120\n",
    "gpa = 1.8\n",
    "if not credits >= 120:\n",
    "  print(\"You do not have enough credits to graduate.\")\n",
    "if not gpa >= 2.0:\n",
    "  print(\"Your GPA is not high enough to graduate.\")\n",
    "if not credits >= 120 and not gpa >= 2.0:\n",
    "  print(\"You do not meet either requirement to graduate!\")"
   ]
  },
  {
   "cell_type": "code",
   "execution_count": null,
   "id": "0c08b687-5f71-4ab0-a45e-5e60e2ae717b",
   "metadata": {},
   "outputs": [],
   "source": [
    "#else\n",
    "credits = 120\n",
    "gpa = 1.9\n",
    "\n",
    "if (credits >= 120) and (gpa >= 2.0):\n",
    "  print(\"You meet the requirements to graduate!\")\n",
    "else:\n",
    "  print(\"You do not meet the requirements to graduate.\")"
   ]
  },
  {
   "cell_type": "code",
   "execution_count": null,
   "id": "901faa95-321d-4a04-9abb-0e594de4f7d0",
   "metadata": {},
   "outputs": [],
   "source": [
    "#elif\n",
    "grade = 86\n",
    "\n",
    "if grade >= 90:\n",
    "  print(\"A\")\n",
    "elif grade >= 80:\n",
    "  print(\"B\")\n",
    "elif grade >= 70:\n",
    "  print(\"C\")\n",
    "elif grade >= 60:\n",
    "  print(\"D\")\n",
    "else:\n",
    "  print(\"F\")"
   ]
  }
 ],
 "metadata": {
  "kernelspec": {
   "display_name": "Python 3 (ipykernel)",
   "language": "python",
   "name": "python3"
  },
  "language_info": {
   "codemirror_mode": {
    "name": "ipython",
    "version": 3
   },
   "file_extension": ".py",
   "mimetype": "text/x-python",
   "name": "python",
   "nbconvert_exporter": "python",
   "pygments_lexer": "ipython3",
   "version": "3.9.12"
  }
 },
 "nbformat": 4,
 "nbformat_minor": 5
}
