{
 "cells": [
  {
   "cell_type": "code",
   "execution_count": null,
   "id": "ff7377a4-047a-414e-a849-fd190da307ae",
   "metadata": {},
   "outputs": [],
   "source": [
    "#insert\n",
    "front_display_list = [\"Mango\", \"Filet Mignon\", \"Chocolate Milk\"]\n",
    "print(front_display_list)\n",
    "\n",
    "# Your code below: \n",
    "front_display_list.insert(0, \"Pineapple\")\n",
    "print(front_display_list)"
   ]
  },
  {
   "cell_type": "code",
   "execution_count": null,
   "id": "3c14ca61-d1d7-4bfd-b23d-0bbe0670c7a9",
   "metadata": {},
   "outputs": [],
   "source": [
    "#pop\n",
    "data_science_topics = [\"Machine Learning\", \"SQL\", \"Pandas\", \"Algorithms\", \"Statistics\", \"Python 3\"]\n",
    "print(data_science_topics)\n",
    "\n",
    "# Your code below: \n",
    "data_science_topics.pop()\n",
    "data_science_topics.pop(3)\n",
    "print(data_science_topics)"
   ]
  },
  {
   "cell_type": "code",
   "execution_count": null,
   "id": "baf4a7b5-64d1-492e-92a3-df8c7dac8ebe",
   "metadata": {},
   "outputs": [],
   "source": [
    "#range \n",
    "number_list = range(9)\n",
    "print(list(number_list))\n",
    "zero_to_seven = range(8)\n",
    "print(list(zero_to_seven))\n",
    "\n",
    "range_five_three = range(5, 15, 3)\n",
    "range_diff_five = range(0, 40, 5)\n",
    "\n",
    "long_list = [1, 5, 6, 7, -23, 69.5, True, \"very\", \"long\", \"list\", \"that\", \"keeps\", \"going.\", \"Let's\", \"practice\", \"getting\", \"the\", \"length\"]\n",
    "big_range = range(2, 3000, 100)\n",
    "\n",
    "long_list_len = len(long_list)\n",
    "print(long_list_len)\n",
    "big_range_length = len(big_range)\n",
    "print(big_range_length)"
   ]
  },
  {
   "cell_type": "code",
   "execution_count": null,
   "id": "c32677a0-9b28-4a8d-b31f-adaeca811e4c",
   "metadata": {},
   "outputs": [],
   "source": [
    "#slicing\n",
    "suitcase = [\"shirt\", \"shirt\", \"pants\", \"pants\", \"pajamas\", \"books\"]\n",
    "\n",
    "beginning = suitcase[0:2]\n",
    "\n",
    "print(beginning)\n",
    "middle = suitcase[2:4]\n",
    "\n",
    "suitcase = [\"shirt\", \"shirt\", \"pants\", \"pants\", \"pajamas\", \"books\"]\n",
    "\n",
    "last_two_elements = suitcase[-2:]\n",
    "print(last_two_elements)\n",
    "slice_off_last_three = suitcase[:-3]\n",
    "print(slice_off_last_three)"
   ]
  },
  {
   "cell_type": "code",
   "execution_count": null,
   "id": "789eefdd-9f2b-47d8-bcb9-035d35ac04e4",
   "metadata": {},
   "outputs": [],
   "source": [
    "#counting\n",
    "votes = [\"Jake\", \"Jake\", \"Laurie\", \"Laurie\", \"Laurie\", \"Jake\", \"Jake\", \"Jake\", \"Laurie\", \"Cassie\", \"Cassie\", \"Jake\", \"Jake\", \"Cassie\", \"Laurie\", \"Cassie\", \"Jake\", \"Jake\", \"Cassie\", \"Laurie\"]\n",
    "\n",
    "jake_votes = votes.count(\"Jake\")\n",
    "print(jake_votes)"
   ]
  },
  {
   "cell_type": "code",
   "execution_count": null,
   "id": "4328ce9d-b57c-4605-9827-498a6599a28d",
   "metadata": {},
   "outputs": [],
   "source": [
    "#Sorting\n",
    "# Checkpoint 1 & 2\n",
    "addresses = [\"221 B Baker St.\", \"42 Wallaby Way\", \"12 Grimmauld Place\", \"742 Evergreen Terrace\", \"1600 Pennsylvania Ave\", \"10 Downing St.\"]\n",
    "addresses.sort()\n",
    "print(addresses)\n",
    "\n",
    "# Checkpoint 3\n",
    "names = [\"Ron\", \"Hermione\", \"Harry\", \"Albus\", \"Sirius\"]\n",
    "names.sort()\n",
    "\n",
    "# Checkpoint 4 & 5\n",
    "cities = [\"London\", \"Paris\", \"Rome\", \"Los Angeles\", \"New York\"]\n",
    "sorted_cities = cities.sort(reverse=True)\n",
    "print(sorted_cities)\n",
    "\n",
    "games = [\"Portal\", \"Minecraft\", \"Pacman\", \"Tetris\", \"The Sims\", \"Pokemon\"]\n",
    "\n",
    "games_sorted = sorted(games)\n",
    "print(games)\n",
    "print(games_sorted)"
   ]
  },
  {
   "cell_type": "code",
   "execution_count": null,
   "id": "c0cc1c0d-8a8d-4e81-82bd-22794ab0a335",
   "metadata": {},
   "outputs": [],
   "source": [
    "#Review\n",
    "inventory = [\"twin bed\", \"twin bed\", \"headboard\", \"queen bed\", \"king bed\", \"dresser\", \"dresser\", \"table\", \"table\", \"nightstand\", \"nightstand\", \"king bed\", \"king bed\", \"twin bed\", \"twin bed\", \"sheets\", \"sheets\", \"pillow\", \"pillow\"]\n",
    "\n",
    "inventory_len = len(inventory)\n",
    "first = inventory[0]\n",
    "last = inventory[-1]\n",
    "inventory_2_6 = inventory[2:6]\n",
    "first_3 = inventory[:3]\n",
    "twin_beds = inventory.count(\"twin bed\")\n",
    "removed_item = inventory.pop(4)\n",
    "inventory.insert(10, \"19th Century Bed Frame\")\n",
    "inventory.sort()\n",
    "print(inventory)"
   ]
  }
 ],
 "metadata": {
  "kernelspec": {
   "display_name": "Python 3 (ipykernel)",
   "language": "python",
   "name": "python3"
  },
  "language_info": {
   "codemirror_mode": {
    "name": "ipython",
    "version": 3
   },
   "file_extension": ".py",
   "mimetype": "text/x-python",
   "name": "python",
   "nbconvert_exporter": "python",
   "pygments_lexer": "ipython3",
   "version": "3.9.12"
  }
 },
 "nbformat": 4,
 "nbformat_minor": 5
}
