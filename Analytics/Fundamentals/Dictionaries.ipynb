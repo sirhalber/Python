{
 "cells": [
  {
   "cell_type": "code",
   "execution_count": null,
   "id": "81a9a0c0-cc0b-4016-bc45-17c8c0aa3e55",
   "metadata": {},
   "outputs": [],
   "source": [
    "#Dictionaries\n",
    "sensors =  {\"living room\": 21, \"kitchen\": 23, \"bedroom\": 20, \"pantry\": 22}\n",
    "num_cameras = {\"backyard\": 6, \"garage\": 2, \"driveway\": 1}\n",
    "\n",
    "print(sensors)"
   ]
  },
  {
   "cell_type": "code",
   "execution_count": null,
   "id": "10da3690-1301-4a99-ad43-21d4441a118b",
   "metadata": {},
   "outputs": [],
   "source": [
    "translations = {\"mountain\": \"orod\", \"bread\": \"bass\", \"friend\": \"mellon\", \"horse\": \"roch\"}"
   ]
  },
  {
   "cell_type": "code",
   "execution_count": null,
   "id": "52428879-c169-4f80-b786-dfb86f874f59",
   "metadata": {},
   "outputs": [],
   "source": [
    "children = {\"von Trapp\": [\"Johannes\", \"Rosmarie\", \"Eleonore\"], \"Corleone\": [\"Sonny\", \"Fredo\", \"Michael\"]}"
   ]
  },
  {
   "cell_type": "code",
   "execution_count": null,
   "id": "4308ae51-51ed-4dd1-8df2-bbd7888d62eb",
   "metadata": {},
   "outputs": [],
   "source": [
    "#Add keys one by one\n",
    "animals_in_zoo = {}\n",
    "animals_in_zoo[\"zebras\"] = 8\n",
    "animals_in_zoo[\"monkeys\"] = 12\n",
    "animals_in_zoo[\"dinosaurs\"] = 0\n",
    "print(animals_in_zoo)"
   ]
  },
  {
   "cell_type": "code",
   "execution_count": null,
   "id": "d9addadc-4fdd-457c-8568-82eef752c094",
   "metadata": {},
   "outputs": [],
   "source": [
    "#Add multiple keys\n",
    "user_ids = {\"teraCoder\": 9018293, \"proProgrammer\": 119238}\n",
    "user_ids.update({\"theLooper\": 138475, \"stringQueen\": 85739})\n",
    "print(user_ids)"
   ]
  },
  {
   "cell_type": "code",
   "execution_count": null,
   "id": "fe54357d-f99b-43ce-986b-ac870dca92ae",
   "metadata": {},
   "outputs": [],
   "source": [
    "#Overwrite\n",
    "oscar_winners = {\"Best Picture\": \"La La Land\", \"Best Actor\": \"Casey Affleck\", \"Best Actress\": \"Emma Stone\", \"Animated Feature\": \"Zootopia\"}\n",
    "oscar_winners[\"Supporting Actress\"] = \"Viola Davis\"\n",
    "oscar_winners[\"Best Picture\"] = \"Moonlight\""
   ]
  },
  {
   "cell_type": "code",
   "execution_count": null,
   "id": "2583b6ec-9084-4595-ad9b-f971157e3bb5",
   "metadata": {},
   "outputs": [],
   "source": [
    "#Dict comprehensions\n",
    "drinks = [\"espresso\", \"chai\", \"decaf\", \"drip\"]\n",
    "caffeine = [64, 40, 0, 120]\n",
    "\n",
    "zipped_drinks = zip(drinks, caffeine)\n",
    "drinks_to_caffeine = {key:value for key, value in zipped_drinks}\n",
    "print(drinks_to_caffeine)"
   ]
  },
  {
   "cell_type": "code",
   "execution_count": null,
   "id": "f98691ea-bdaa-41e3-bf98-96060b84e065",
   "metadata": {},
   "outputs": [],
   "source": [
    "#Review\n",
    "songs = [\"Like a Rolling Stone\", \"Satisfaction\", \"Imagine\", \"What's Going On\", \"Respect\", \"Good Vibrations\"]\n",
    "playcounts = [78, 29, 44, 21, 89, 5]\n",
    "plays = {key:value for key, value in zip(songs, playcounts)}\n",
    "print(plays)\n",
    "\n",
    "plays[\"Purple Haze\"] = 1\n",
    "plays[\"Respect\"] = 94\n",
    "print(plays)\n",
    "\n",
    "library = {\"The Bes"
   ]
  }
 ],
 "metadata": {
  "kernelspec": {
   "display_name": "Python 3 (ipykernel)",
   "language": "python",
   "name": "python3"
  },
  "language_info": {
   "codemirror_mode": {
    "name": "ipython",
    "version": 3
   },
   "file_extension": ".py",
   "mimetype": "text/x-python",
   "name": "python",
   "nbconvert_exporter": "python",
   "pygments_lexer": "ipython3",
   "version": "3.9.12"
  }
 },
 "nbformat": 4,
 "nbformat_minor": 5
}
