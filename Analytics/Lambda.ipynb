{
 "cells": [
  {
   "cell_type": "code",
   "execution_count": null,
   "id": "1dafeb0a-8c54-453d-8df1-4c66dfe1f14c",
   "metadata": {},
   "outputs": [],
   "source": [
    "#Lambda\n",
    "contains_a = lambda word: \"a\" in word\n",
    "print(contains_a(\"banana\"))\n",
    "print(contains_a(\"apple\"))\n",
    "print(contains_a(\"cherry\"))"
   ]
  },
  {
   "cell_type": "code",
   "execution_count": null,
   "id": "da301eb2-f7c8-49d1-ad58-45c9ee2022d4",
   "metadata": {},
   "outputs": [],
   "source": [
    "#Long string\n",
    "long_string = lambda word: len(word) > 12\n",
    "print(long_string(\"short\"))\n",
    "print(long_string(\"photosynthesis\")"
   ]
  },
  {
   "cell_type": "code",
   "execution_count": null,
   "id": "8bc9b67d-f797-454a-97bd-c048b2bc6946",
   "metadata": {},
   "outputs": [],
   "source": [
    "#Ends in a\n",
    "ends_in_a = lambda str: str[-1] == 'a'\n",
    "print(ends_in_a(\"data\"))\n",
    "print(ends_in_a(\"aardvark\"))"
   ]
  },
  {
   "cell_type": "code",
   "execution_count": null,
   "id": "680901cf-d160-4601-940e-4f29f010d2cd",
   "metadata": {},
   "outputs": [],
   "source": [
    "#If I\n",
    "double_or_zero = lambda num: 2*num if num > 10 else 0\n",
    "print(double_or_zero(15))\n",
    "print(double_or_zero(5))"
   ]
  },
  {
   "cell_type": "code",
   "execution_count": null,
   "id": "60df7c86-0568-4142-99a5-633962fe5fc4",
   "metadata": {},
   "outputs": [],
   "source": [
    "#If II\n",
    "even_or_odd = lambda num: \"even\" if num%2 == 0 else \"odd\"\n",
    "print(even_or_odd(10))\n",
    "print(even_or_odd(5))"
   ]
  },
  {
   "cell_type": "code",
   "execution_count": null,
   "id": "f8688090-d357-4aed-b85e-c2d4a43ff978",
   "metadata": {},
   "outputs": [],
   "source": [
    "#If III\n",
    "multiple_of_three = lambda num: \"multiple of three\" if num%3 == 0 else \"not a multiple\"\n",
    "print(multiple_of_three(9))\n",
    "print(multiple_of_three(10))"
   ]
  },
  {
   "cell_type": "code",
   "execution_count": null,
   "id": "36a05be6-8020-493b-b3a0-32c109b774f8",
   "metadata": {},
   "outputs": [],
   "source": [
    "#If IV\n",
    "rate_movie = lambda rating: \"I liked this movie\" if rating > 8.5 else \"This movie was not very good\"\n",
    "print(rate_movie(9.2))\n",
    "print(rate_movie(7.2))"
   ]
  },
  {
   "cell_type": "code",
   "execution_count": null,
   "id": "54a804d4-c45e-4077-8291-4703d2bb2657",
   "metadata": {},
   "outputs": [],
   "source": [
    "#One's Place\n",
    "ones_place = lambda num: num%10\n",
    "print(ones_place(123))\n",
    "print(ones_place(4))"
   ]
  },
  {
   "cell_type": "code",
   "execution_count": null,
   "id": "e54a24ae-b6e9-42bd-a170-71a2ae12735c",
   "metadata": {},
   "outputs": [],
   "source": [
    "#Double Square\n",
    "double_square = lambda num: 2 * num * num\n",
    "print(double_square(5))\n",
    "print(double_square(3))"
   ]
  },
  {
   "cell_type": "code",
   "execution_count": null,
   "id": "708893b0-deda-4543-adee-ec0a0b81182c",
   "metadata": {},
   "outputs": [],
   "source": [
    "#Add random\n",
    "import random\n",
    "#Write your lambda function here\n",
    "add_random = lambda num: num + random.randint(1, 10)\n",
    "print(add_random(5))\n",
    "print(add_random(100))"
   ]
  }
 ],
 "metadata": {
  "kernelspec": {
   "display_name": "Python 3 (ipykernel)",
   "language": "python",
   "name": "python3"
  },
  "language_info": {
   "codemirror_mode": {
    "name": "ipython",
    "version": 3
   },
   "file_extension": ".py",
   "mimetype": "text/x-python",
   "name": "python",
   "nbconvert_exporter": "python",
   "pygments_lexer": "ipython3",
   "version": "3.9.12"
  }
 },
 "nbformat": 4,
 "nbformat_minor": 5
}
