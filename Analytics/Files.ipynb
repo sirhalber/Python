{
 "cells": [
  {
   "cell_type": "code",
   "execution_count": null,
   "id": "563eeb20-6ae9-4300-baa0-53667cb408b6",
   "metadata": {},
   "outputs": [],
   "source": [
    "#Read files\n",
    "with open('welcome.txt') as text_file:\n",
    "  text_data = text_file.read()\n",
    "  print(text_data)"
   ]
  },
  {
   "cell_type": "code",
   "execution_count": null,
   "id": "40c1e1ef-af52-46f5-9d87-05b9ea97d75e",
   "metadata": {},
   "outputs": [],
   "source": [
    "#Iterating through lines\n",
    "with open('how_many_lines.txt') as lines_doc:\n",
    "  for lines in lines_doc.readlines():\n",
    "    print(lines)"
   ]
  },
  {
   "cell_type": "code",
   "execution_count": null,
   "id": "c3a1d048-2db7-403d-8aac-6ebc46f1c959",
   "metadata": {},
   "outputs": [],
   "source": [
    "#Reading a line\n",
    "with open('just_the_first.txt') as first_line_doc:\n",
    "  first_line = first_line_doc.readline()\n",
    "  print(first_line)"
   ]
  },
  {
   "cell_type": "code",
   "execution_count": null,
   "id": "30006eab-af21-4635-95f8-5702b4cce888",
   "metadata": {},
   "outputs": [],
   "source": [
    "#Writing a file\n",
    "with open(\"bad_bands.txt\", \"w\") as bad_bands_doc:\n",
    "  bad_bands = bad_bands_doc.write(\"El canto del loco\")"
   ]
  },
  {
   "cell_type": "code",
   "execution_count": null,
   "id": "254bc734-0293-4b1a-b29e-77d06e0952d6",
   "metadata": {},
   "outputs": [],
   "source": [
    "#Appending\n",
    "with open('cool_dogs.txt', 'a') as cool_dogs_file:\n",
    "  cool_dogs_file.write(\"Air Buddy\")"
   ]
  },
  {
   "cell_type": "code",
   "execution_count": null,
   "id": "47513fae-6f4d-48ba-a640-404fea3d9a96",
   "metadata": {},
   "outputs": [],
   "source": [
    "#Closing\n",
    "with open('fun_file.txt') as close_this_file:\n",
    "  setup = close_this_file.readline()\n",
    "  punchline = close_this_file.readline()\n",
    "  print(setup)"
   ]
  },
  {
   "cell_type": "code",
   "execution_count": null,
   "id": "8480afa1-8d38-483e-91c5-a11a369e803d",
   "metadata": {},
   "outputs": [],
   "source": [
    "#CSV file\n",
    "with open('logger.csv') as log_csv_file:\n",
    "  print(log_csv_file.read())"
   ]
  },
  {
   "cell_type": "code",
   "execution_count": null,
   "id": "9e7fb2c0-0f82-49df-bc51-0ff6bfdacde6",
   "metadata": {},
   "outputs": [],
   "source": [
    "import csv\n",
    "\n",
    "with open('cool_csv.csv') as cool_csv_file:\n",
    "  cool_csv_dict = csv.DictReader(cool_csv_file)\n",
    "  for row in cool_csv_dict:\n",
    "    print(row['Cool Fact'])"
   ]
  },
  {
   "cell_type": "code",
   "execution_count": null,
   "id": "94c92074-9f2d-45ae-a6d3-af26c254760b",
   "metadata": {},
   "outputs": [],
   "source": [
    "# Different types of CSV\n",
    "import csv\n",
    "with open('books.csv') as books_csv:\n",
    "  books_reader = csv.DictReader(books_csv, delimiter='@')\n",
    "  isbn_list = [book['ISBN'] for book in books_reader]"
   ]
  },
  {
   "cell_type": "code",
   "execution_count": null,
   "id": "f377219d-a29d-4a9c-bd09-831bf6a30e79",
   "metadata": {},
   "outputs": [],
   "source": [
    "#Writing a CSV\n",
    "access_log = [{'time': '08:39:37', 'limit': 844404, 'address': '1.227.124.181'}, {'time': '13:13:35', 'limit': 543871, 'address': '198.51.139.193'}, {'time': '19:40:45', 'limit': 3021, 'address': '172.1.254.208'}, {'time': '18:57:16', 'limit': 67031769, 'address': '172.58.247.219'}, {'time': '21:17:13', 'limit': 9083, 'address': '124.144.20.113'}, {'time': '23:34:17', 'limit': 65913, 'address': '203.236.149.220'}, {'time': '13:58:05', 'limit': 1541474, 'address': '192.52.206.76'}, {'time': '10:52:00', 'limit': 11465607, 'address': '104.47.149.93'}, {'time': '14:56:12', 'limit': 109, 'address': '192.31.185.7'}, {'time': '18:56:35', 'limit': 6207, 'address': '2.228.164.197'}]\n",
    "fields = ['time', 'address', 'limit']\n",
    "\n",
    "import csv\n",
    "\n",
    "with open('logger.csv', 'w') as logger_csv:\n",
    "  log_writer = csv.DictWriter(logger_csv, fieldnames=fields)\n",
    "  log_writer.writeheader()\n",
    "  for line in access_log:\n",
    "    log_writer.writerow(line)"
   ]
  },
  {
   "cell_type": "code",
   "execution_count": null,
   "id": "3bd7c8c3-352e-44ac-87c4-5123b672f10f",
   "metadata": {},
   "outputs": [],
   "source": [
    "#Reading JSON\n",
    "import json\n",
    "\n",
    "with open('message.json') as message_json:\n",
    "  message = json.load(message_json)\n",
    "  print(message['text'])"
   ]
  },
  {
   "cell_type": "code",
   "execution_count": null,
   "id": "e1c193f2-e004-42bc-9e03-0448d249b72b",
   "metadata": {},
   "outputs": [],
   "source": [
    "#Writing JSON\n",
    "data_payload = [\n",
    "  {'interesting message': 'What is JSON? A web application\\'s little pile of secrets.',\n",
    "   'follow up': 'But enough talk!'}\n",
    "]\n",
    "import json\n",
    "with open('data.json', \"w\") as data_json:\n",
    "  json.dump(data_payload, data_json)"
   ]
  }
 ],
 "metadata": {
  "kernelspec": {
   "display_name": "Python 3 (ipykernel)",
   "language": "python",
   "name": "python3"
  },
  "language_info": {
   "codemirror_mode": {
    "name": "ipython",
    "version": 3
   },
   "file_extension": ".py",
   "mimetype": "text/x-python",
   "name": "python",
   "nbconvert_exporter": "python",
   "pygments_lexer": "ipython3",
   "version": "3.9.12"
  }
 },
 "nbformat": 4,
 "nbformat_minor": 5
}
