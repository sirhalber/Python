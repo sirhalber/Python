{
 "cells": [
  {
   "cell_type": "code",
   "execution_count": null,
   "id": "ee878eb2-f979-4ac8-aa65-b6213fba8318",
   "metadata": {},
   "outputs": [],
   "source": [
    "#Concatenating Strings\n",
    "first_name = \"Julie\"\n",
    "last_name = \"Blevins\"\n",
    "\n",
    "def account_generator(first_name, last_name):\n",
    "  new_account = first_name[:3] + last_name[:3]\n",
    "  return new_account\n",
    "\n",
    "new_account = account_generator(first_name, last_name)\n",
    "print(new_account)"
   ]
  },
  {
   "cell_type": "code",
   "execution_count": null,
   "id": "b8c3c53c-530d-41c5-8a7f-ae07850dc0de",
   "metadata": {},
   "outputs": [],
   "source": [
    "first_name = \"Reiko\"\n",
    "last_name = \"Matsuki\"\n",
    "\n",
    "def password_generator(first_name, last_name):\n",
    "  password = first_name[len(first_name)-3:] + last_name[len(last_name)-3:]\n",
    "  return password\n",
    "\n",
    "temp_password = password_generator(first_name, last_name)\n",
    "print(temp_password)"
   ]
  },
  {
   "cell_type": "code",
   "execution_count": null,
   "id": "e510d29e-409e-47ae-acec-d802cdf6af84",
   "metadata": {},
   "outputs": [],
   "source": [
    "#Negative\n",
    "company_motto = \"Copeland's Corporate Company helps you capably cope with the constant cacophony of daily life\"\n",
    "\n",
    "second_to_last = company_motto[-2]\n",
    "final_word = company_motto[-4:]"
   ]
  },
  {
   "cell_type": "code",
   "execution_count": null,
   "id": "3106f762-f804-4de2-9a83-200e3c3fb522",
   "metadata": {},
   "outputs": [],
   "source": [
    "first_name = \"Bob\"\n",
    "last_name = \"Daily\"\n",
    "\n",
    "fixed_first_name = \"R\" + first_name[1:]"
   ]
  },
  {
   "cell_type": "code",
   "execution_count": null,
   "id": "256ad2fc-62c3-447d-8136-81f2c57f442a",
   "metadata": {},
   "outputs": [],
   "source": [
    "#Escape Characters\n",
    "password = \"theycallme\\\"crazy\\\"91\""
   ]
  },
  {
   "cell_type": "code",
   "execution_count": null,
   "id": "ddc362f4-9743-403e-86dc-500b6118fb09",
   "metadata": {},
   "outputs": [],
   "source": [
    "#Iterating through strings\n",
    "def get_length(string):\n",
    "  length = 0\n",
    "  for i in string:\n",
    "    length += 1\n",
    "  return length"
   ]
  },
  {
   "cell_type": "code",
   "execution_count": null,
   "id": "e2c4bf99-0837-4f53-ad96-f89f24b64d20",
   "metadata": {},
   "outputs": [],
   "source": [
    "#Strings and conditions\n",
    "def letter_check(word, letter):\n",
    "  if letter in word:\n",
    "    return True\n",
    "  else:\n",
    "    return False\n",
    "\n",
    "print(letter_check(\"strawberry\", \"a\"))"
   ]
  },
  {
   "cell_type": "code",
   "execution_count": null,
   "id": "53e56255-a25f-47f9-a119-3dc35f76b5e1",
   "metadata": {},
   "outputs": [],
   "source": [
    "#Strings and conditions II\n",
    "def contains(big_string, little_string):\n",
    "  if little_string in big_string:\n",
    "    return True\n",
    "  else:\n",
    "    return False\n",
    "\n",
    "def common_letters(string_one, string_two):\n",
    "    common = []\n",
    "    for letter in string_one:\n",
    "      if (letter in string_two) and not (letter in common):\n",
    "        common.append(letter)\n",
    "    print(common)\n",
    "    return common\n",
    "\n",
    "print(common_letters(\"manhattan\", \"san francisco\"))"
   ]
  },
  {
   "cell_type": "code",
   "execution_count": null,
   "id": "01b388f9-1809-4ba1-81aa-d1c77c1f1147",
   "metadata": {},
   "outputs": [],
   "source": [
    "#Review\n",
    "def username_generator(first_name, last_name):\n",
    "  username = first_name[:3] + last_name[:4]\n",
    "  return username\n",
    "\n",
    "def password_generator(username):\n",
    "  password = \"\"\n",
    "  for i in range(len(username)):\n",
    "    password += username[i-1]\n",
    "  return password\n",
    "\n",
    "print(username_generator(\"Abe\", \"Simpson\"))"
   ]
  }
 ],
 "metadata": {
  "kernelspec": {
   "display_name": "Python 3 (ipykernel)",
   "language": "python",
   "name": "python3"
  },
  "language_info": {
   "codemirror_mode": {
    "name": "ipython",
    "version": 3
   },
   "file_extension": ".py",
   "mimetype": "text/x-python",
   "name": "python",
   "nbconvert_exporter": "python",
   "pygments_lexer": "ipython3",
   "version": "3.9.12"
  }
 },
 "nbformat": 4,
 "nbformat_minor": 5
}
