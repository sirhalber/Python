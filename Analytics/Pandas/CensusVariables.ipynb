{
 "cells": [
  {
   "cell_type": "code",
   "execution_count": null,
   "id": "29b2072b-0b01-43b4-b97a-62b21d7c1ee3",
   "metadata": {},
   "outputs": [],
   "source": [
    "import codecademylib3\n",
    "\n",
    "# Import pandas with alias\n",
    "import pandas as pd\n",
    "\n",
    "# Read in the census dataframe\n",
    "census = pd.read_csv('census_data.csv', index_col=0)\n",
    "\n",
    "print(census.head())\n",
    "\n",
    "print(census.dtypes)\n",
    "\n",
    "print(census['birth_year'].unique())\n",
    "\n",
    "census['birth_year'] = census['birth_year'].replace(['missing'], 1967)\n",
    "print(census['birth_year'].unique())\n",
    "\n",
    "census['birth_year'] = census['birth_year'].astype(int)\n",
    "print(census.dtypes)\n",
    "\n",
    "print(census['birth_year'].mean())\n",
    "\n",
    "census['higher_tax'] = pd.Categorical(census['higher_tax'], ['strongly disagree', 'disagree', 'neutral', 'agree', 'strongly agree'], ordered=True)\n",
    "print(census['higher_tax'].unique())\n",
    "\n",
    "census['higher_tax'] = census['higher_tax'].cat.codes\n",
    "print(census['higher_tax'].median())\n",
    "\n",
    "census = pd.get_dummies(census, columns=['marital_status'])\n",
    "print(census.head())"
   ]
  }
 ],
 "metadata": {
  "kernelspec": {
   "display_name": "Python 3 (ipykernel)",
   "language": "python",
   "name": "python3"
  },
  "language_info": {
   "codemirror_mode": {
    "name": "ipython",
    "version": 3
   },
   "file_extension": ".py",
   "mimetype": "text/x-python",
   "name": "python",
   "nbconvert_exporter": "python",
   "pygments_lexer": "ipython3",
   "version": "3.9.12"
  }
 },
 "nbformat": 4,
 "nbformat_minor": 5
}
