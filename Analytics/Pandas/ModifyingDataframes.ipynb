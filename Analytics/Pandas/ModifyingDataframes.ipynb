{
 "cells": [
  {
   "cell_type": "code",
   "execution_count": null,
   "id": "500197f6-aceb-4880-bfcf-ddd92228db2b",
   "metadata": {},
   "outputs": [],
   "source": [
    "#Adding a column\n",
    "import codecademylib3\n",
    "import pandas as pd\n",
    "\n",
    "df = pd.DataFrame([\n",
    "  [1, '3 inch screw', 0.5, 0.75],\n",
    "  [2, '2 inch nail', 0.10, 0.25],\n",
    "  [3, 'hammer', 3.00, 5.50],\n",
    "  [4, 'screwdriver', 2.50, 3.00]\n",
    "],\n",
    "  columns=['Product ID', 'Description', 'Cost to Manufacture', 'Price']\n",
    ")\n",
    "\n",
    "df['Sold in Bulk?'] = ['Yes', 'Yes', 'No', 'No']\n",
    "\n",
    "print(df)"
   ]
  },
  {
   "cell_type": "code",
   "execution_count": null,
   "id": "0f40fe14-b43c-4e40-9981-c41af823a705",
   "metadata": {},
   "outputs": [],
   "source": [
    "#Adding a column II\n",
    "import codecademylib3\n",
    "import pandas as pd\n",
    "\n",
    "df = pd.DataFrame([\n",
    "  [1, '3 inch screw', 0.5, 0.75],\n",
    "  [2, '2 inch nail', 0.10, 0.25],\n",
    "  [3, 'hammer', 3.00, 5.50],\n",
    "  [4, 'screwdriver', 2.50, 3.00]\n",
    "],\n",
    "  columns=['Product ID', 'Description', 'Cost to Manufacture', 'Price']\n",
    ")\n",
    "\n",
    "df['Is taxed?'] = 'Yes'\n",
    "\n",
    "print(df)"
   ]
  },
  {
   "cell_type": "code",
   "execution_count": null,
   "id": "2d10cef4-91d8-442c-a88d-114fcac30a05",
   "metadata": {},
   "outputs": [],
   "source": [
    "#Adding a column III\n",
    "import codecademylib3\n",
    "import pandas as pd\n",
    "\n",
    "df = pd.DataFrame([\n",
    "  [1, '3 inch screw', 0.5, 0.75],\n",
    "  [2, '2 inch nail', 0.10, 0.25],\n",
    "  [3, 'hammer', 3.00, 5.50],\n",
    "  [4, 'screwdriver', 2.50, 3.00]\n",
    "],\n",
    "  columns=['Product ID', 'Description', 'Cost to Manufacture', 'Price']\n",
    ")\n",
    "\n",
    "df['Margin'] = df.Price - df['Cost to Manufacture']\n",
    "\n",
    "print(df)"
   ]
  },
  {
   "cell_type": "code",
   "execution_count": null,
   "id": "86806095-1a58-4338-80c9-3a2076c047e9",
   "metadata": {},
   "outputs": [],
   "source": [
    "#Column operations\n",
    "import codecademylib3\n",
    "import pandas as pd\n",
    "\n",
    "df = pd.DataFrame([\n",
    "  ['JOHN SMITH', 'john.smith@gmail.com'],\n",
    "  ['Jane Doe', 'jdoe@yahoo.com'],\n",
    "  ['joe schmo', 'joeschmo@hotmail.com']\n",
    "],\n",
    "columns=['Name', 'Email'])\n",
    "\n",
    "df['Lowercase Name'] = df.Name.apply(str.lower)\n",
    "\n",
    "print(df)"
   ]
  },
  {
   "cell_type": "code",
   "execution_count": null,
   "id": "d51d1976-fac7-4017-a7ff-3a6e3c36ba22",
   "metadata": {},
   "outputs": [],
   "source": [
    "#lambda\n",
    "mylambda = lambda x: x[0]+x[-1]\n",
    "print(mylambda('Hello World'))"
   ]
  },
  {
   "cell_type": "code",
   "execution_count": null,
   "id": "f95c910b-5ea0-4768-bbad-49c6033ba7a3",
   "metadata": {},
   "outputs": [],
   "source": [
    "#lambda II\n",
    "import codecademylib3\n",
    "\n",
    "mylambda = lambda x: 'Welcome to BattleCity!' \\\n",
    "\tif x >= 13 \\\n",
    "  else 'You must be over 13'"
   ]
  },
  {
   "cell_type": "code",
   "execution_count": null,
   "id": "511f7642-fcc5-4a16-8747-56d759be473c",
   "metadata": {},
   "outputs": [],
   "source": [
    "#lambda III\n",
    "import codecademylib3\n",
    "import pandas as pd\n",
    "\n",
    "df = pd.read_csv('employees.csv')\n",
    "\n",
    "# Add columns here\n",
    "get_last_name = lambda x: x.split()[-1]\n",
    "df['last_name'] = df.name.apply(get_last_name)\n",
    "\n",
    "print(df)"
   ]
  },
  {
   "cell_type": "code",
   "execution_count": null,
   "id": "9cc76b7d-3860-4bd4-b84c-77fd351ae0ad",
   "metadata": {},
   "outputs": [],
   "source": [
    "#lambda IV\n",
    "import codecademylib3\n",
    "import pandas as pd\n",
    "\n",
    "df = pd.read_csv('employees.csv')\n",
    "\n",
    "total_earned = lambda row: (row.hourly_wage * 40) + ((row.hourly_wage * 1.5) * (row.hours_worked - 40)) \\\n",
    "\tif row.hours_worked > 40 \\\n",
    "  else row.hourly_wage * row.hours_worked\n",
    "  \n",
    "df['total_earned'] = df.apply(total_earned, axis = 1)\n",
    "\n",
    "print(df)"
   ]
  },
  {
   "cell_type": "code",
   "execution_count": null,
   "id": "b2a9036e-453e-4a69-93a7-92ea24053b08",
   "metadata": {},
   "outputs": [],
   "source": [
    "#Renaming columns\n",
    "import codecademylib3\n",
    "import pandas as pd\n",
    "\n",
    "df = pd.read_csv('imdb.csv')\n",
    "\n",
    "df.columns = ['ID', 'Title', 'Category', 'Year Released', 'Rating']\n",
    "\n",
    "print(df)"
   ]
  },
  {
   "cell_type": "code",
   "execution_count": null,
   "id": "ea6cad40-47ab-4b5e-90f5-9e1fc9a8eb86",
   "metadata": {},
   "outputs": [],
   "source": [
    "#Renaming columns\n",
    "import codecademylib3\n",
    "import pandas as pd\n",
    "\n",
    "df = pd.read_csv('imdb.csv')\n",
    "\n",
    "df.rename(columns={'name': 'movie_title'}, inplace=True)\n",
    "\n",
    "print(df)"
   ]
  },
  {
   "cell_type": "code",
   "execution_count": null,
   "id": "5653a3df-aba2-45b8-9126-d90297d00115",
   "metadata": {},
   "outputs": [],
   "source": [
    "#Review\n",
    "import codecademylib3\n",
    "import pandas as pd\n",
    "\n",
    "orders = pd.read_csv('shoefly.csv')\n",
    "\n",
    "print(orders.head(5))\n",
    "\n",
    "orders['shoe_source'] = orders.shoe_material.apply(lambda x: \\\n",
    "                        \t'animal' if x == 'leather'else 'vegan')\n",
    "\n",
    "orders['salutation'] = orders.apply(lambda row: \\\n",
    "                                    'Dear Mr. ' + row['last_name']\n",
    "                                    if row['gender'] == 'male'\n",
    "                                    else 'Dear Ms. ' + row['last_name'],\n",
    "                                    axis=1)"
   ]
  }
 ],
 "metadata": {
  "kernelspec": {
   "display_name": "Python 3 (ipykernel)",
   "language": "python",
   "name": "python3"
  },
  "language_info": {
   "codemirror_mode": {
    "name": "ipython",
    "version": 3
   },
   "file_extension": ".py",
   "mimetype": "text/x-python",
   "name": "python",
   "nbconvert_exporter": "python",
   "pygments_lexer": "ipython3",
   "version": "3.9.12"
  }
 },
 "nbformat": 4,
 "nbformat_minor": 5
}
