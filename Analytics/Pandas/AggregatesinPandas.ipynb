{
 "cells": [
  {
   "cell_type": "code",
   "execution_count": null,
   "id": "dd3ed95b-b55d-4aac-978b-876f8c485b05",
   "metadata": {},
   "outputs": [],
   "source": [
    "#Column statistics\n",
    "import codecademylib3\n",
    "import pandas as pd\n",
    "\n",
    "orders = pd.read_csv('orders.csv')\n",
    "\n",
    "print(orders.head(10))\n",
    "\n",
    "most_expensive = orders['price'].max()\n",
    "\n",
    "num_colors = orders['shoe_color'].nunique()"
   ]
  },
  {
   "cell_type": "code",
   "execution_count": null,
   "id": "c80b31a3-26dc-4226-9041-5f5ad68d6acf",
   "metadata": {},
   "outputs": [],
   "source": [
    "#Aggregate Functions \n",
    "import codecademylib3\n",
    "import pandas as pd\n",
    "\n",
    "orders = pd.read_csv('orders.csv')\n",
    "\n",
    "pricey_shoes = orders.groupby('shoe_type').price.max()\n",
    "print(pricey_shoes)\n",
    "print(type(pricey_shoes))"
   ]
  },
  {
   "cell_type": "code",
   "execution_count": null,
   "id": "a63ff6d8-fa43-471f-9fe0-8eb608e5c546",
   "metadata": {},
   "outputs": [],
   "source": [
    "#Aggregate Functions II\n",
    "import codecademylib3\n",
    "import pandas as pd\n",
    "\n",
    "orders = pd.read_csv('orders.csv')\n",
    "\n",
    "pricey_shoes = orders.groupby('shoe_type').price.max().reset_index()\n",
    "print(pricey_shoes)\n",
    "print(type(pricey_shoes))"
   ]
  },
  {
   "cell_type": "code",
   "execution_count": null,
   "id": "23d949f3-e467-4a8a-9511-34c9e17288a1",
   "metadata": {},
   "outputs": [],
   "source": [
    "#Aggregate Functions III\n",
    "import codecademylib3\n",
    "import numpy as np\n",
    "import pandas as pd\n",
    "\n",
    "orders = pd.read_csv('orders.csv')\n",
    "\n",
    "cheap_shoes = orders.groupby('shoe_color').price.apply(lambda x: np.percentile(x, 25)).reset_index()\n",
    "print(cheap_shoes)\n"
   ]
  },
  {
   "cell_type": "code",
   "execution_count": null,
   "id": "7ec066a0-9b7d-4981-9c44-24021596f59f",
   "metadata": {},
   "outputs": [],
   "source": [
    "#Aggregate Functions IV\n",
    "import codecademylib3\n",
    "import numpy as np\n",
    "import pandas as pd\n",
    "\n",
    "orders = pd.read_csv('orders.csv')\n",
    "\n",
    "shoe_counts = orders.groupby(['shoe_type', 'shoe_color']).id.count().reset_index()\n",
    "print(shoe_counts)"
   ]
  },
  {
   "cell_type": "code",
   "execution_count": null,
   "id": "80edab17-58e9-48b3-a299-1b955677d375",
   "metadata": {},
   "outputs": [],
   "source": [
    "#Pivot Tables\n",
    "import codecademylib3\n",
    "import numpy as np\n",
    "import pandas as pd\n",
    "\n",
    "orders = pd.read_csv('orders.csv')\n",
    "\n",
    "shoe_counts = orders.groupby(['shoe_type', 'shoe_color']).id.count().reset_index()\n",
    "\n",
    "shoe_counts_pivot = shoe_counts.pivot(columns='shoe_color', index='shoe_type', values='id').reset_index()\n",
    "print(shoe_counts_pivot)"
   ]
  },
  {
   "cell_type": "code",
   "execution_count": null,
   "id": "fc2fa4ed-e868-4506-aae9-a58bbf8d3a97",
   "metadata": {},
   "outputs": [],
   "source": [
    "#Review\n",
    "import codecademylib3\n",
    "import pandas as pd\n",
    "\n",
    "user_visits = pd.read_csv('page_visits.csv')\n",
    "\n",
    "print(user_visits.head())\n",
    "\n",
    "click_source = user_visits.groupby('utm_source').id.count().reset_index()\n",
    "print(click_source)\n",
    "\n",
    "click_source_by_month = user_visits.groupby(['utm_source', 'month']).id.count().reset_index()\n",
    "print(click_source_by_month)\n",
    "\n",
    "click_source_by_month_pivot = click_source_by_month.pivot(columns = 'month', index = 'utm_source', values = 'id').reset_index()\n",
    "print(click_source_by_month_pivot)"
   ]
  }
 ],
 "metadata": {
  "kernelspec": {
   "display_name": "Python 3 (ipykernel)",
   "language": "python",
   "name": "python3"
  },
  "language_info": {
   "codemirror_mode": {
    "name": "ipython",
    "version": 3
   },
   "file_extension": ".py",
   "mimetype": "text/x-python",
   "name": "python",
   "nbconvert_exporter": "python",
   "pygments_lexer": "ipython3",
   "version": "3.9.12"
  }
 },
 "nbformat": 4,
 "nbformat_minor": 5
}
