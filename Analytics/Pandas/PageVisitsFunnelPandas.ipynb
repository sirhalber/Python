{
 "cells": [
  {
   "cell_type": "code",
   "execution_count": null,
   "id": "8d29cd83-875a-4e9a-b423-cfb5823307d8",
   "metadata": {},
   "outputs": [],
   "source": [
    "import codecademylib3\n",
    "import pandas as pd\n",
    "\n",
    "visits = pd.read_csv('visits.csv',\n",
    "                     parse_dates=[1])\n",
    "cart = pd.read_csv('cart.csv',\n",
    "                   parse_dates=[1])\n",
    "checkout = pd.read_csv('checkout.csv',\n",
    "                       parse_dates=[1])\n",
    "purchase = pd.read_csv('purchase.csv',\n",
    "                       parse_dates=[1])\n",
    "\n",
    "print(visits.head())\n",
    "print(cart.head())\n",
    "print(checkout.head())\n",
    "print(purchase.head())\n",
    "\n",
    "visits_cart = visits.merge(cart, how='left')\n",
    "print(visits_cart)\n",
    "\n",
    "print(len(visits_cart))\n",
    "\n",
    "null = visits_cart[visits_cart.cart_time.isnull()]\n",
    "print(len(null))\n",
    "\n",
    "visits_percent = float(len(null)) / len(visits_cart)\n",
    "print(visits_percent)\n",
    "\n",
    "cart_checkout = cart.merge(checkout, how='left')\n",
    "cart_checkout_null = cart_checkout[cart_checkout.cart_time.isnull()]\n",
    "print(len(cart_checkout_null))\n",
    "\n",
    "all_data = visits.merge(checkout, how='left').merge(cart, how='left').merge(purchase, how='left')\n",
    "print(all_data.head())\n",
    "\n",
    "all_data_checkout = all_data[all_data.checkout_time.isnull()]\n",
    "all_data_checkout_percent = len(all_data_checkout) / len(all_data)\n",
    "print(all_data_checkout_percent)\n",
    "\n",
    "all_data['time_to_purchase'] = all_data.purchase_time - all_data.visit_time\n",
    "print(all_data.time_to_purchase)\n",
    "\n",
    "print(all_data['time_to_purchase'].mean())"
   ]
  }
 ],
 "metadata": {
  "kernelspec": {
   "display_name": "Python 3 (ipykernel)",
   "language": "python",
   "name": "python3"
  },
  "language_info": {
   "codemirror_mode": {
    "name": "ipython",
    "version": 3
   },
   "file_extension": ".py",
   "mimetype": "text/x-python",
   "name": "python",
   "nbconvert_exporter": "python",
   "pygments_lexer": "ipython3",
   "version": "3.9.12"
  }
 },
 "nbformat": 4,
 "nbformat_minor": 5
}
