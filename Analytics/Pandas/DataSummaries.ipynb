{
 "cells": [
  {
   "cell_type": "code",
   "execution_count": null,
   "id": "75227c88-ff31-420c-9cc9-c06079e09b4b",
   "metadata": {},
   "outputs": [],
   "source": [
    "#Intro\n",
    "import codecademylib3\n",
    "import pandas as pd\n",
    "\n",
    "movies = pd.read_csv('movies.csv')\n",
    "\n",
    "# Print the first 5 rows \n",
    "print(movies.head())\n",
    "\n",
    "# Print the summary statistics for all columns\n",
    "print(movies.describe(include='all'))"
   ]
  },
  {
   "cell_type": "code",
   "execution_count": null,
   "id": "e9f41a80-9f41-4a37-8a44-4f3ae8ff4ccd",
   "metadata": {},
   "outputs": [],
   "source": [
    "#Central tendency\n",
    "import pandas as pd\n",
    "\n",
    "movies = pd.read_csv('movies.csv')\n",
    "\n",
    "# Save the mean to mean_budget\n",
    "mean_budget = movies.production_budget.mean()\n",
    "print(mean_budget)\n",
    "\n",
    "# Save the median to med_budget\n",
    "med_budget = movies.production_budget.median()\n",
    "print(med_budget)\n",
    "\n",
    "# Save the mode to mode_budget\n",
    "mode_budget = movies.production_budget.mode()\n",
    "print(mode_budget)\n",
    "\n",
    "# Save the trimmed mean to trmean_budget\n",
    "from scipy.stats import trim_mean\n",
    "trmean_budget = trim_mean(movies.production_budget, proportiontocut=0.2)\n",
    "print(trmean_budget)"
   ]
  },
  {
   "cell_type": "code",
   "execution_count": null,
   "id": "702f3934-ebcc-4f1e-8e50-d70633db3af0",
   "metadata": {},
   "outputs": [],
   "source": [
    "#Spread\n",
    "import pandas as pd\n",
    "\n",
    "movies = pd.read_csv('movies.csv')\n",
    "\n",
    "# Save the range to range_budget\n",
    "range_budget = movies.production_budget.max() - \\\n",
    "movies.production_budget.min()\n",
    "print(range_budget)\n",
    "\n",
    "# Save the interquartile range to iqr_budget\n",
    "iqr_budget = movies.production_budget.quantile(0.75) - \\\n",
    "movies.production_budget.quantile(0.25)\n",
    "print(iqr_budget)\n",
    "\n",
    "# Save the variance to var_budget\n",
    "var_budget = movies.production_budget.var()\n",
    "print(var_budget)\n",
    "\n",
    "# Save the standard deviation to std_budget\n",
    "std_budget = movies.production_budget.std()\n",
    "print(std_budget)\n",
    "\n",
    "# Save the mean absolute deviation to mad_budget\n",
    "mad_budget = movies.production_budget.mad()\n",
    "print(mad_budget)"
   ]
  },
  {
   "cell_type": "code",
   "execution_count": null,
   "id": "5e9d948e-21d4-458e-b13c-4a21d0c21886",
   "metadata": {
    "tags": []
   },
   "outputs": [],
   "source": [
    "#Visualization of quantitative values\n",
    "import codecademylib3\n",
    "import pandas as pd\n",
    "import matplotlib.pyplot as plt\n",
    "import seaborn as sns\n",
    "\n",
    "movies = pd.read_csv('movies.csv')\n",
    "\n",
    "# Create a boxplot for movie budget \n",
    "sns.boxplot(x='production_budget', data=movies)\n",
    "plt.show()\n",
    "plt.close()\n",
    "\n",
    "# Create a histogram for movie budget\n",
    "sns.histplot(x='production_budget', data=movies)\n",
    "plt.show()\n",
    "plt.close()"
   ]
  },
  {
   "cell_type": "code",
   "execution_count": null,
   "id": "f4cd4216-38ff-4b42-b031-625dfea89590",
   "metadata": {},
   "outputs": [],
   "source": [
    "#Value counts\n",
    "import pandas as pd\n",
    "\n",
    "movies = pd.read_csv('movies.csv')\n",
    "\n",
    "# Save the counts to genre_counts\n",
    "genre_counts = movies.genre.value_counts()\n",
    "print(genre_counts)"
   ]
  },
  {
   "cell_type": "code",
   "execution_count": null,
   "id": "aca434e5-9de8-40c1-b39e-6da4b172a1de",
   "metadata": {},
   "outputs": [],
   "source": [
    "#Value props\n",
    "import pandas as pd\n",
    "\n",
    "movies = pd.read_csv('movies.csv')\n",
    "\n",
    "# Save the proportions to genre_props\n",
    "genre_props = movies.genre.value_counts(normalize=True)\n",
    "print(genre_props)"
   ]
  },
  {
   "cell_type": "code",
   "execution_count": null,
   "id": "2f22ff88-bb54-48d3-8756-bf1bcbb3d3ba",
   "metadata": {},
   "outputs": [],
   "source": [
    "#Visualizing Categorical Variables\n",
    "import codecademylib3\n",
    "import matplotlib.pyplot as plt \n",
    "import seaborn as sns\n",
    "import pandas as pd\n",
    "\n",
    "movies = pd.read_csv('movies.csv')\n",
    "\n",
    "# Create a bar chart for movie genre \n",
    "sns.countplot(x='genre', data=movies)\n",
    "plt.show()\n",
    "plt.close()\n",
    "\n",
    "# Create a pie chart for movie genre\n",
    "movies.genre.value_counts().plot.pie()\n",
    "plt.show()\n",
    "plt.close()"
   ]
  }
 ],
 "metadata": {
  "kernelspec": {
   "display_name": "Python 3 (ipykernel)",
   "language": "python",
   "name": "python3"
  },
  "language_info": {
   "codemirror_mode": {
    "name": "ipython",
    "version": 3
   },
   "file_extension": ".py",
   "mimetype": "text/x-python",
   "name": "python",
   "nbconvert_exporter": "python",
   "pygments_lexer": "ipython3",
   "version": "3.9.12"
  }
 },
 "nbformat": 4,
 "nbformat_minor": 5
}
