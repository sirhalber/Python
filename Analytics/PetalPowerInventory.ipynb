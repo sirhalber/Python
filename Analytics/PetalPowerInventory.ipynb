{
 "cells": [
  {
   "cell_type": "code",
   "execution_count": null,
   "id": "1f3feeeb-4306-4ba4-9ae8-5b6253da0ff4",
   "metadata": {},
   "outputs": [],
   "source": [
    "import codecademylib3\n",
    "import pandas as pd\n",
    "\n",
    "inventory = pd.read_csv('inventory.csv')\n",
    "\n",
    "inventory.head(10)\n",
    "\n",
    "staten_island = inventory.head(10)\n",
    "\n",
    "product_request = staten_island['product_description']\n",
    "\n",
    "seed_request = inventory[(inventory.location == 'Brooklyn') & (inventory.product_type == 'seeds')]\n",
    "\n",
    "inventory['in_stock'] = inventory.apply(lambda row: True if row.quantity > 0 else False, axis=1)\n",
    "\n",
    "inventory['total_value'] = inventory.price * inventory.quantity\n",
    "\n",
    "combine_lambda = lambda row: \\\n",
    "    '{} - {}'.format(row.product_type,\n",
    "                     row.product_description)\n",
    "\n",
    "inventory['full_description'] = inventory.apply(combine_lambda, axis=1)\n",
    "\n",
    "print(inventory)\n"
   ]
  }
 ],
 "metadata": {
  "kernelspec": {
   "display_name": "Python 3 (ipykernel)",
   "language": "python",
   "name": "python3"
  },
  "language_info": {
   "codemirror_mode": {
    "name": "ipython",
    "version": 3
   },
   "file_extension": ".py",
   "mimetype": "text/x-python",
   "name": "python",
   "nbconvert_exporter": "python",
   "pygments_lexer": "ipython3",
   "version": "3.9.12"
  }
 },
 "nbformat": 4,
 "nbformat_minor": 5
}
