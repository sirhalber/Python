{
 "cells": [
  {
   "cell_type": "code",
   "execution_count": null,
   "id": "2278e376-b1a7-4a6b-b76e-730791b45383",
   "metadata": {},
   "outputs": [],
   "source": [
    "#Reading from API\n",
    "import requests\n",
    "r = requests.get('https://api.census.gov/data/2020/acs/acs5?get=NAME,B08303_001E,B08303_013E&for=county:*&in=state:36')\n",
    "r_text = r.text\n",
    "print(r_text)\n",
    "r_json = r.json()\n",
    "print(r_json)"
   ]
  },
  {
   "cell_type": "code",
   "execution_count": 1,
   "id": "1d674d29-4063-4c9c-a8c7-96999a3d80c6",
   "metadata": {},
   "outputs": [],
   "source": [
    "#Converting JSON to CSV\n",
    "import requests\n",
    "import csv\n",
    "\n",
    "r = requests.get('https://api.census.gov/data/2020/acs/acs5?get=NAME,B08303_001E,B08303_013E&for=county:*&in=state:36')\n",
    "\n",
    "r_json = r.json()\n",
    "\n",
    "with open('commute_data.csv', mode='w', newline='') as file:\n",
    "  writer = csv.writer(file)\n",
    "  writer.writerows(r.json())"
   ]
  },
  {
   "cell_type": "code",
   "execution_count": null,
   "id": "5dbf4e7d-3743-47b9-b0f2-e797900b2f41",
   "metadata": {},
   "outputs": [],
   "source": [
    "#Using Pandas\n",
    "import pandas as pd\n",
    "\n",
    "commute_df = pd.read_csv(\"commute_data.csv\")\n",
    "print(commute_df.head())\n",
    "commute_df.columns = [\"A\", \"B\", \"C\", \"D\", \"E\"]\n",
    "print(commute_df.head())"
   ]
  },
  {
   "cell_type": "code",
   "execution_count": null,
   "id": "9e20220d-521d-486a-8892-fd934dbfefa0",
   "metadata": {},
   "outputs": [],
   "source": [
    "#Binomial distribution\n",
    "import numpy\n",
    "print(numpy.random.binomial(n = 1, p = 0.8, size = 500))\n",
    "print(numpy.random.binomial(n = 100, p = 0.8, size = 500))"
   ]
  }
 ],
 "metadata": {
  "kernelspec": {
   "display_name": "Python 3 (ipykernel)",
   "language": "python",
   "name": "python3"
  },
  "language_info": {
   "codemirror_mode": {
    "name": "ipython",
    "version": 3
   },
   "file_extension": ".py",
   "mimetype": "text/x-python",
   "name": "python",
   "nbconvert_exporter": "python",
   "pygments_lexer": "ipython3",
   "version": "3.9.12"
  }
 },
 "nbformat": 4,
 "nbformat_minor": 5
}
