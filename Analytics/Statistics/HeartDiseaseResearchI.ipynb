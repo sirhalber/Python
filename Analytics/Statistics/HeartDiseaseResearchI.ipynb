{
 "cells": [
  {
   "cell_type": "code",
   "execution_count": null,
   "id": "085b2ec1-63f3-41f6-b335-f9e3bbd97788",
   "metadata": {},
   "outputs": [],
   "source": [
    "# import libraries\n",
    "import codecademylib3\n",
    "import pandas as pd\n",
    "import numpy as np\n",
    "\n",
    "# load data\n",
    "heart = pd.read_csv('heart_disease.csv')\n",
    "yes_hd = heart[heart.heart_disease == 'presence']\n",
    "no_hd = heart[heart.heart_disease == 'absence']\n",
    "\n",
    "#Cholesterol levels\n",
    "chol_hd = yes_hd.chol\n",
    "\n",
    "#Mean\n",
    "chol_hd_mean = np.mean(chol_hd)\n",
    "print(chol_hd_mean)\n",
    "\n",
    "#Import function\n",
    "from scipy.stats import ttest_1samp\n",
    "\n",
    "#Hypothesis\n",
    "stat, pval = ttest_1samp(chol_hd, 240)\n",
    "print(pval/2)\n",
    "\n",
    "#Patients with no hd\n",
    "chol_no_hd = no_hd.chol\n",
    "stat, pval = ttest_1samp(chol_no_hd, 240)\n",
    "print(pval/2)\n",
    "\n",
    "#Test\n",
    "pval = binom_test(num_highfbs_patients, num_patients, .08, alternative='greater')\n",
    "print(pval)\n",
    "\n",
    "#Test\n",
    "from scipy.stats import binom_test\n",
    "pval = binom_test(num_highfbs_patients, num_patients, .08, alternative='greater')\n",
    "print(pval)\n",
    "\n",
    "#Total number of patients\n",
    "num_patients = len(heart)\n",
    "print(num_patients)\n",
    "\n",
    "#Num of patients with sugar > 120\n",
    "num_highfbs_patients = np.sum(heart.fbs == 1)\n",
    "print(num_highfbs_patients)\n",
    "\n",
    "#Estimation\n",
    "percent_8 = 303 * 0.08\n",
    "print(percent_8)"
   ]
  }
 ],
 "metadata": {
  "kernelspec": {
   "display_name": "Python 3 (ipykernel)",
   "language": "python",
   "name": "python3"
  },
  "language_info": {
   "codemirror_mode": {
    "name": "ipython",
    "version": 3
   },
   "file_extension": ".py",
   "mimetype": "text/x-python",
   "name": "python",
   "nbconvert_exporter": "python",
   "pygments_lexer": "ipython3",
   "version": "3.9.12"
  }
 },
 "nbformat": 4,
 "nbformat_minor": 5
}
