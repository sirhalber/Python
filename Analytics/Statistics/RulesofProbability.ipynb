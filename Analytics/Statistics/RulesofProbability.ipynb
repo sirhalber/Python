{
 "cells": [
  {
   "cell_type": "code",
   "execution_count": null,
   "id": "c0c4b40f-a21f-4e1f-ac13-bcea79d2b3ae",
   "metadata": {},
   "outputs": [],
   "source": [
    "#Addition Rule\n",
    "def prob_a_or_b(a, b, all_possible_outcomes):\n",
    "  # probability of event a\n",
    "  prob_a = len(a)/len(all_possible_outcomes)\n",
    "\t\n",
    "\t# probability of event b\n",
    "  prob_b = len(b)/len(all_possible_outcomes)\n",
    "\t\n",
    "\t# intersection of events a and b\n",
    "  inter = a.intersection(b)\n",
    "\t\n",
    "\t# probability of intersection of events a and b\n",
    "  prob_inter = len(inter)/len(all_possible_outcomes)\n",
    "\t\n",
    "\t# add return statement here\n",
    "  return prob_a + prob_b - prob_inter\n",
    "\n",
    "# rolling a die once and getting an even number or an odd number\n",
    "evens = {2, 4, 6}\n",
    "odds = {1, 3, 5}\n",
    "all_possible_rolls = {1, 2, 3, 4, 5, 6}\n",
    "\n",
    "# call function here first\n",
    "print(prob_a_or_b(evens, odds, all_possible_rolls))\n",
    "\n",
    "# rolling a die once and getting an odd number or a number greater than 2\n",
    "odds = {1, 3, 5}\n",
    "greater_than_two = {3, 4, 5, 6}\n",
    "all_possible_rolls = {1, 2, 3, 4, 5, 6}\n",
    "\n",
    "# call function here second\n",
    "print(prob_a_or_b(odds, greater_than_two, all_possible_rolls))\n",
    "\n",
    "# selecting a diamond card or a face card from a standard deck of cards\n",
    "diamond_cards = {'ace_diamond', '2_diamond', '3_diamond', '4_diamond', '5_diamond', '6_diamond', '7_diamond', '8_diamond', '9_diamond', '10_diamond', 'jack_diamond', 'queen_diamond', 'king_diamond'}\n",
    "face_cards = {'jack_diamond', 'jack_spade', 'jack_heart', 'jack_club', 'queen_diamond', 'queen_spade', 'queen_heart', 'queen_club', 'king_diamond', 'king_spade', 'king_heart', 'king_club'}\n",
    "# all cards in a deck representing the entire sample space\n",
    "all_possible_cards = {'ace_diamond', '2_diamond', '3_diamond', '4_diamond', '5_diamond', '6_diamond', '7_diamond', '8_diamond', '9_diamond', '10_diamond', 'jack_diamond', 'queen_diamond', 'king_diamond', 'ace_heart', '2_heart', '3_heart', '4_heart', '5_heart', '6_heart', '7_heart', '8_heart', '9_heart', '10_heart', 'jack_heart', 'queen_heart', 'king_heart', 'ace_spade', '2_spade', '3_spade', '4_spade', '5_spade', '6_spade', '7_spade', '8_spade', '9_spade', '10_spade', 'jack_spade', 'queen_spade', 'king_spade', 'ace_club', '2_club', '3_club', '4_club', '5_club', '6_club', '7_club', '8_club', '9_club', '10_club', 'jack_club', 'queen_club', 'king_club'}\n",
    "\n",
    "# call function here third\n",
    "print(prob_a_or_b(diamond_cards, face_cards, all_possible_cards))\n"
   ]
  }
 ],
 "metadata": {
  "kernelspec": {
   "display_name": "Python 3 (ipykernel)",
   "language": "python",
   "name": "python3"
  },
  "language_info": {
   "codemirror_mode": {
    "name": "ipython",
    "version": 3
   },
   "file_extension": ".py",
   "mimetype": "text/x-python",
   "name": "python",
   "nbconvert_exporter": "python",
   "pygments_lexer": "ipython3",
   "version": "3.9.12"
  }
 },
 "nbformat": 4,
 "nbformat_minor": 5
}
