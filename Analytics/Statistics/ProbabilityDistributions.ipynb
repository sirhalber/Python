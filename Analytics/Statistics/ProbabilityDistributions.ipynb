{
 "cells": [
  {
   "cell_type": "code",
   "execution_count": null,
   "id": "5f7d677f-c243-4a76-8209-bf4f7ab4e6d7",
   "metadata": {},
   "outputs": [],
   "source": [
    "#Random Variables\n",
    "import numpy as np\n",
    "\n",
    "# create 6 sided \"die\"\n",
    "die_6 = range(1, 7)\n",
    "\n",
    "# set number of rolls\n",
    "num_rolls = 10\n",
    "\n",
    "# roll the \"die\" the set amount of times\n",
    "results_1 = np.random.choice(die_6, size = num_rolls, replace = True)\n",
    "print(results_1)\n",
    "\n",
    "# create 12-sided \"die\"\n",
    "die_12 = range(1, 13)\n",
    "\n",
    "# roll the 12-sided \"die\" 10 times\n",
    "results_2 = np.random.choice(die_12, size = num_rolls, replace = True)\n",
    "print(results_2)"
   ]
  },
  {
   "cell_type": "code",
   "execution_count": null,
   "id": "4ca0b473-5fb7-4e39-8e05-9fa1f6040874",
   "metadata": {},
   "outputs": [],
   "source": [
    "#Calculating Probabilities\n",
    "import scipy.stats as stats\n",
    "\n",
    "# value of interest\n",
    "# change this\n",
    "x = 3\n",
    "\n",
    "# sample size\n",
    "# change this\n",
    "n = 10\n",
    "\n",
    "# calculate probability\n",
    "prob_1 = stats.binom.pmf(x, n, 0.5)\n",
    "print(prob_1)\n",
    "\n",
    "## Question 2\n",
    "prob_2 = stats.binom.pmf(7, 20, 0.5)\n",
    "print(prob_2)"
   ]
  },
  {
   "cell_type": "code",
   "execution_count": null,
   "id": "132cf193-5508-43dc-85f7-26502603fef4",
   "metadata": {},
   "outputs": [],
   "source": [
    "#Probability mass function\n",
    "import scipy.stats as stats\n",
    "\n",
    "## Checkpoint 1\n",
    "prob_1 =  stats.binom.pmf(4, 10, 0.5) + stats.binom.pmf(5, 10, 0.5) \\\n",
    "+ stats.binom.pmf(6, 10, 0.5)\n",
    "print(prob_1)\n",
    "\n",
    "## Checkpoint 2\n",
    "prob_2 = 1 - (stats.binom.pmf(0, 10, 0.5) + stats.binom.pmf(1, 10, 0.5) + stats.binom.pmf(2, 10, 0.5))\n",
    "print(prob_2)"
   ]
  },
  {
   "cell_type": "code",
   "execution_count": null,
   "id": "e50b15a6-fce4-436e-9956-cb89f9bef54e",
   "metadata": {},
   "outputs": [],
   "source": [
    "#Cumulative Distribution Function\n",
    "import scipy.stats as stats\n",
    "\n",
    "## Checkpoint 1\n",
    "prob_1 = stats.binom.cdf(3, 10, 0.5)\n",
    "print(prob_1)\n",
    "\n",
    "# compare to pmf code\n",
    "print(stats.binom.pmf(0, n=10, p=.5) + stats.binom.pmf(1, n=10, p=.5) + stats.binom.pmf(2, n=10, p=.5) + stats.binom.pmf(3, n=10, p=.5))\n",
    "\n",
    "\n",
    "## Checkpoint 2\n",
    "prob_2 = 1 - stats.binom.cdf(5, 10, 0.5)\n",
    "print(prob_2)\n",
    "\n",
    "\n",
    "## Checkpoint 3\n",
    "prob_3 = stats.binom.cdf(5, 10, 0.5) - stats.binom.cdf(1, 10, 0.5)\n",
    "print(prob_3)\n",
    "\n",
    "# compare to pmf code\n",
    "print(stats.binom.pmf(2, n=10, p=.5) + stats.binom.pmf(3, n=10, p=.5) + stats.binom.pmf(4, n=10, p=.5) + stats.binom.pmf(5, n=10, p=.5))"
   ]
  },
  {
   "cell_type": "code",
   "execution_count": null,
   "id": "3513b708-32e2-402b-bc65-8831fe4f1ab8",
   "metadata": {},
   "outputs": [],
   "source": [
    "#Probability Density Functions\n",
    "import scipy.stats as stats\n",
    "\n",
    "prob = stats.norm.cdf(175, 167.64, 8)\n",
    "print(prob)"
   ]
  },
  {
   "cell_type": "code",
   "execution_count": null,
   "id": "6ed8beed-aee6-4d25-9cf0-59aeff13c130",
   "metadata": {},
   "outputs": [],
   "source": [
    "#PDF & CDF\n",
    "import scipy.stats as stats\n",
    "\n",
    "## Checkpoint 1\n",
    "temp_prob_1 = stats.norm.cdf(25, 20, 3) - stats.norm.cdf(18, 20, 3)\n",
    "print(temp_prob_1)\n",
    "\n",
    "## Checkpoint 2\n",
    "temp_prob_2 = 1 - stats.norm.cdf(24, 20, 3)\n",
    "print(temp_prob_2)"
   ]
  },
  {
   "cell_type": "code",
   "execution_count": null,
   "id": "74dcf67e-d126-48bd-aba2-d0b779dc7cca",
   "metadata": {},
   "outputs": [],
   "source": [
    "#Probability of excat values (Poisson)\n",
    "import scipy.stats as stats\n",
    "\n",
    "## Checkpoint 1\n",
    "# calculate prob_15\n",
    "prob_15 = stats.poisson.pmf(15, 15)\n",
    "print(prob_15)\n",
    "\n",
    "## Checkpoint \n",
    "# calculate prob_7_to_9\n",
    "prob_7_to_9 = stats.poisson.pmf(7, 15) + stats.poisson.pmf(8,15) + \\\n",
    "stats.poisson.pmf(9, 15)\n",
    "print(prob_7_to_9)"
   ]
  },
  {
   "cell_type": "code",
   "execution_count": null,
   "id": "0aa4cb94-b506-4735-919b-d79335f07c02",
   "metadata": {},
   "outputs": [],
   "source": [
    "#Probabilities of a range\n",
    "import scipy.stats as stats\n",
    "\n",
    "## Checkpoint 1\n",
    "# calculate prob_more_than_20\n",
    "prob_more_than_20 = 1 - stats.poisson.cdf(20,15)\n",
    "print(prob_more_than_20)\n",
    "\n",
    "## Checkpoint \n",
    "# calculate prob_17_to_21\n",
    "prob_17_to_21 = stats.poisson.cdf(21,15) - stats.poisson.cdf(16,15)\n",
    "print(prob_17_to_21)"
   ]
  },
  {
   "cell_type": "code",
   "execution_count": null,
   "id": "78331e7b-09a7-4306-8f2a-cfb0d3f30ee8",
   "metadata": {},
   "outputs": [],
   "source": [
    "#Expectation of the Poisson Distribution\n",
    "import scipy.stats as stats\n",
    "import codecademylib3\n",
    "\n",
    "from histogram_function import histogram_function\n",
    "\n",
    "## Checkpoint 1\n",
    "# lambda = 15, 1000 random draws \n",
    "rand_vars = stats.poisson.rvs(15, size = 1000)\n",
    "\n",
    "## Checkpoint 2\n",
    "# print the mean of rand_vars\n",
    "print(rand_vars.mean())\n",
    "\n",
    "## Checkpoint 3\n",
    "histogram_function(rand_vars)"
   ]
  },
  {
   "cell_type": "code",
   "execution_count": null,
   "id": "77a2bc4d-84db-41d8-8049-1a9fbcaa5d4f",
   "metadata": {},
   "outputs": [],
   "source": [
    "#Spread of the Poisson Distribution\n",
    "import scipy.stats as stats\n",
    "import numpy as np\n",
    "\n",
    "## For checkpoints 1 and 2\n",
    "# 5000 draws, lambda = 7\n",
    "rand_vars_7 = stats.poisson.rvs(7, size = 5000)\n",
    "\n",
    "## Checkpoint 1\n",
    "# print variance of rand_vars_7\n",
    "print(np.var(rand_vars_7))\n",
    "\n",
    "## Checkpoint 2\n",
    "# print minimum and maximum of rand_vars_7\n",
    "print(min(rand_vars_7), max(rand_vars_7))\n",
    "\n",
    "## For checkpoints 3 and 4\n",
    "# 5000 draws, lambda = 17\n",
    "rand_vars_17 = stats.poisson.rvs(17, size = 5000)\n",
    "\n",
    "## Checkpoint 3\n",
    "# print variance of rand_vars_17\n",
    "print(np.var(rand_vars_17))\n",
    "\n",
    "## Checkpoint 4\n",
    "# print minimum and maximum of rand_vars_17\n",
    "print(min(rand_vars_17), max(rand_vars_17))"
   ]
  }
 ],
 "metadata": {
  "kernelspec": {
   "display_name": "Python 3 (ipykernel)",
   "language": "python",
   "name": "python3"
  },
  "language_info": {
   "codemirror_mode": {
    "name": "ipython",
    "version": 3
   },
   "file_extension": ".py",
   "mimetype": "text/x-python",
   "name": "python",
   "nbconvert_exporter": "python",
   "pygments_lexer": "ipython3",
   "version": "3.9.12"
  }
 },
 "nbformat": 4,
 "nbformat_minor": 5
}
