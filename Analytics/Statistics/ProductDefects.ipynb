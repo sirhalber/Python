{
 "cells": [
  {
   "cell_type": "code",
   "execution_count": null,
   "id": "a22f855a-e958-489e-8cc7-0c5343048318",
   "metadata": {},
   "outputs": [],
   "source": [
    "import scipy.stats as stats\n",
    "import numpy as np\n",
    "\n",
    "### Task Group 1 ###\n",
    "## Task 1: \n",
    "lam = 7\n",
    "\n",
    "## Task 2:\n",
    "print(stats.poisson.pmf(lam, lam))\n",
    "\n",
    "## Task 3:\n",
    "print(stats.poisson.cdf(4, lam))\n",
    "\n",
    "## Task 4:\n",
    "print(1 - stats.poisson.cdf(9, lam))\n",
    "\n",
    "### Task Group 2 ###\n",
    "## Task 5:\n",
    "year_defects = stats.poisson.rvs(lam, size = 365)\n",
    "\n",
    "## Task 6:\n",
    "print(year_defects[:20])\n",
    "\n",
    "## Task 7:\n",
    "print(lam*365)\n",
    "\n",
    "## Task 8:\n",
    "total_sum = sum(year_defects)\n",
    "print(total_sum)\n",
    "\n",
    "## Task 9:\n",
    "average = np.mean(year_defects)\n",
    "print(average)\n",
    "\n",
    "## Task 10:\n",
    "print(max(year_defects))\n",
    "\n",
    "## Task 11:\n",
    "print(1 - stats.poisson.cdf(15,lam))\n",
    "\n",
    "### Extra Bonus ###\n",
    "# Task 12\n",
    "print(stats.poisson.ppf(0.9, lam))\n",
    "\n",
    "# Task 13\n",
    "proportion = sum(year_defects >= 10) / len(year_defects)\n",
    "print(proportion)\n"
   ]
  }
 ],
 "metadata": {
  "kernelspec": {
   "display_name": "Python 3 (ipykernel)",
   "language": "python",
   "name": "python3"
  },
  "language_info": {
   "codemirror_mode": {
    "name": "ipython",
    "version": 3
   },
   "file_extension": ".py",
   "mimetype": "text/x-python",
   "name": "python",
   "nbconvert_exporter": "python",
   "pygments_lexer": "ipython3",
   "version": "3.9.12"
  }
 },
 "nbformat": 4,
 "nbformat_minor": 5
}
