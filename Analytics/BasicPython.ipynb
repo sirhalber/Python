{
 "cells": [
  {
   "cell_type": "code",
   "execution_count": null,
   "id": "683cf4ca-cbb8-4870-ad92-d57a882d8e89",
   "metadata": {},
   "outputs": [],
   "source": [
    "# Paste code here:\n",
    "import pandas as pd\n",
    "\n",
    "# Load data\n",
    "df = pd.read_csv('page_visits.csv')\n",
    "\n",
    "# Display data\n",
    "print(df.head())"
   ]
  },
  {
   "cell_type": "code",
   "execution_count": null,
   "id": "67d8b75b-0a69-49cf-be15-af1746ca3713",
   "metadata": {},
   "outputs": [],
   "source": [
    "import codecademylib3_seaborn\n",
    "from matplotlib import pyplot as plt\n",
    "import numpy as np\n",
    "import pandas as pd\n",
    "\n",
    "hour = range(24)\n",
    "\n",
    "viewers_hour = [30, 17, 34, 29, 19, 14, 3, 2, 4, 9, 5, 48, 62, 58, 40, 51, 69, 55, 76, 81, 102, 120, 71, 63]\n",
    "\n",
    "plt.title(\"Codecademy Learners Time Series\")\n",
    "\n",
    "plt.xlabel(\"Hour\")\n",
    "plt.ylabel(\"Viewers\")\n",
    "\n",
    "plt.plot(hour, viewers_hour)\n",
    "\n",
    "plt.legend(['2015-01-01'])\n",
    "\n",
    "ax = plt.subplot()\n",
    "\n",
    "ax.set_facecolor('seashell')\n",
    "\n",
    "ax.set_xticks(hour)\n",
    "ax.set_yticks([0, 20, 40, 60, 80, 100, 120])\n",
    "\n",
    "y_upper = [i + (i*0.15) for i in viewers_hour]\n",
    "y_lower = [i - (i*0.15) for i in viewers_hour]\n",
    "\n",
    "plt.fill_between(hour, y_lower, y_upper, alpha=0.2)\n",
    "\n",
    "# Add the code here:\n",
    "plt.show()"
   ]
  }
 ],
 "metadata": {
  "kernelspec": {
   "display_name": "Python 3 (ipykernel)",
   "language": "python",
   "name": "python3"
  },
  "language_info": {
   "codemirror_mode": {
    "name": "ipython",
    "version": 3
   },
   "file_extension": ".py",
   "mimetype": "text/x-python",
   "name": "python",
   "nbconvert_exporter": "python",
   "pygments_lexer": "ipython3",
   "version": "3.9.12"
  }
 },
 "nbformat": 4,
 "nbformat_minor": 5
}
