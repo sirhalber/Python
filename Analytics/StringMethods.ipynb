{
 "cells": [
  {
   "cell_type": "code",
   "execution_count": null,
   "id": "76621b79-43d1-43b2-b481-516f271ca9c0",
   "metadata": {},
   "outputs": [],
   "source": [
    "#Formatting\n",
    "poem_title = \"spring storm\"\n",
    "poem_author = \"William Carlos Williams\"\n",
    "\n",
    "poem_title_fixed = poem_title.title()\n",
    "print(poem_title_fixed)\n",
    "\n",
    "poem_author_fixed = poem_author.upper()\n",
    "print(poem_author_fixed)"
   ]
  },
  {
   "cell_type": "code",
   "execution_count": null,
   "id": "eb577368-122e-4be2-91f4-fda269fee815",
   "metadata": {},
   "outputs": [],
   "source": [
    "#Splitting\n",
    "line_one = \"The sky has given over\"\n",
    "line_one_words = line_one.split()\n",
    "print(line_one_words)"
   ]
  },
  {
   "cell_type": "code",
   "execution_count": null,
   "id": "eefd52ed-fe81-4da6-b0c0-1764bb18bb19",
   "metadata": {},
   "outputs": [],
   "source": [
    "#Splitting II\n",
    "authors = \"Audre Lorde, William Carlos Williams, Gabriela Mistral, Jean Toomer, An Qi, Walt Whitman, Shel Silverstein, Carmen Boullosa, Kamala Suraiyya, Langston Hughes, Adrienne Rich, Nikki Giovanni\"\n",
    "\n",
    "author_names = authors.split(\",\")\n",
    "author_last_names = [name.split()[-1] for name in author_names]\n",
    "print(author_last_names)"
   ]
  },
  {
   "cell_type": "code",
   "execution_count": null,
   "id": "adc9e831-6386-45ab-bc42-c066b35eadb8",
   "metadata": {},
   "outputs": [],
   "source": [
    "#Splitting III\n",
    "spring_storm_text = \\\n",
    "\"\"\"The sky has given over \n",
    "its bitterness. \n",
    "Out of the dark change \n",
    "all day long \n",
    "rain falls and falls \n",
    "as if it would never end. \n",
    "Still the snow keeps \n",
    "its hold on the ground. \n",
    "But water, water \n",
    "from a thousand runnels! \n",
    "It collects swiftly, \n",
    "dappled with black \n",
    "cuts a way for itself \n",
    "through green ice in the gutters. \n",
    "Drop after drop it falls \n",
    "from the withered grass-stems \n",
    "of the overhanging embankment.\"\"\"\n",
    "\n",
    "spring_storm_lines = spring_storm_text.split('\\n')\n",
    "print(spring_storm_lines)"
   ]
  },
  {
   "cell_type": "code",
   "execution_count": null,
   "id": "5cc7203c-cc97-421b-aa2d-ef11e261329d",
   "metadata": {},
   "outputs": [],
   "source": [
    "#Joining strings\n",
    "reapers_line_one_words = [\"Black\", \"reapers\", \"with\", \"the\", \"sound\", \"of\", \"steel\", \"on\", \"stones\"]\n",
    "\n",
    "reapers_line_one = \" \".join(reapers_line_one_words)"
   ]
  },
  {
   "cell_type": "code",
   "execution_count": null,
   "id": "a4448f5c-a634-4035-abb8-b34af28b2fb0",
   "metadata": {},
   "outputs": [],
   "source": [
    "#Joining strings II\n",
    "winter_trees_lines = ['All the complicated details', 'of the attiring and', 'the disattiring are completed!', 'A liquid moon', 'moves gently among', 'the long branches.', 'Thus having prepared their buds', 'against a sure winter', 'the wise trees', 'stand sleeping in the cold.']\n",
    "\n",
    "winter_trees_full = '\\n'.join(winter_trees_lines)\n",
    "print(winter_trees_full)"
   ]
  },
  {
   "cell_type": "code",
   "execution_count": null,
   "id": "55880264-73c2-46d1-8da0-cf1402f0a1b2",
   "metadata": {},
   "outputs": [],
   "source": [
    "#Strip\n",
    "love_maybe_lines = ['Always    ', '     in the middle of our bloodiest battles  ', 'you lay down your arms', '           like flowering mines    ','\\n' ,'   to conquer me home.    ']\n",
    "\n",
    "love_maybe_lines_stripped = []\n",
    "for i in range(len(love_maybe_lines)):\n",
    "  stripped_str = love_maybe_lines[i].strip()\n",
    "  love_maybe_lines_stripped.append(stripped_str)\n",
    "print(love_maybe_lines_stripped)\n",
    "love_maybe_full = ('\\n').join(love_maybe_lines_stripped)\n",
    "print(love_maybe_full)"
   ]
  },
  {
   "cell_type": "code",
   "execution_count": null,
   "id": "200616c8-7f71-41ec-8c2a-103ae3d96c0d",
   "metadata": {},
   "outputs": [],
   "source": [
    "#Replace\n",
    "toomer_bio = \\\n",
    "\"\"\"\n",
    "Nathan Pinchback Tomer, who adopted the name Jean Tomer early in his literary career, was born in Washington, D.C. in 1894. Jean is the son of Nathan Tomer was a mixed-race freedman, born into slavery in 1839 in Chatham County, North Carolina. Jean Tomer is most well known for his first book Cane, which vividly portrays the life of African-Americans in southern farmlands.\n",
    "\"\"\"\n",
    "toomer_bio_fixed = toomer_bio.replace('Tomer', 'Toomer')\n",
    "print(toomer_bio_fixed)"
   ]
  },
  {
   "cell_type": "code",
   "execution_count": null,
   "id": "ebbdcebc-e7e3-419e-abd6-62bf55cae7e2",
   "metadata": {},
   "outputs": [],
   "source": [
    "#Find\n",
    "god_wills_it_line_one = \"The very earth will disown you\"\n",
    "disown_placement = god_wills_it_line_one.find('disown')\n",
    "print(disown_placement)"
   ]
  },
  {
   "cell_type": "code",
   "execution_count": null,
   "id": "d6ab78d6-122e-429b-b719-6a3db1afcba1",
   "metadata": {},
   "outputs": [],
   "source": [
    "#Format\n",
    "def poem_title_card(title, poet):\n",
    "  return \"The poem \\\"{}\\\" is written by {}.\".format(title, poet)\n",
    "poem_title_card(\"I Hear America Singing\", \"Walt Whitman\")"
   ]
  },
  {
   "cell_type": "code",
   "execution_count": null,
   "id": "0694b98f-629f-4c8f-ab54-e1c80245c028",
   "metadata": {},
   "outputs": [],
   "source": [
    "#Format II\n",
    "def poem_description(publishing_date, author, title, original_work):\n",
    "  poem_desc = \"The poem {title} by {author} was originally published in {original_work} in {publishing_date}.\".format(publishing_date=publishing_date, author=author, title=title, original_work=original_work)\n",
    "  return poem_desc\n",
    "author = \"Shel Silverstein\"\n",
    "title = \"My Beard\"\n",
    "original_work = \"Where the Sidewalk Ends\"\n",
    "publishing_date = \"1974\"\n",
    "my_beard_description = poem_description(publishing_date, author, title, original_work)\n"
   ]
  },
  {
   "cell_type": "code",
   "execution_count": null,
   "id": "b2cfc199-bab3-44b7-a5a9-8060be71896e",
   "metadata": {},
   "outputs": [],
   "source": [
    "#Review\n",
    "highlighted_poems = \"Afterimages:Audre Lorde:1997,  The Shadow:William Carlos Williams:1915, Ecstasy:Gabriela Mistral:1925,   Georgia Dusk:Jean Toomer:1923,   Parting Before Daybreak:An Qi:2014, The Untold Want:Walt Whitman:1871, Mr. Grumpledump's Song:Shel Silverstein:2004, Angel Sound Mexico City:Carmen Boullosa:2013, In Love:Kamala Suraiyya:1965, Dream Variations:Langston Hughes:1994, Dreamwood:Adrienne Rich:1987\"\n",
    "\n",
    "print(highlighted_poems)\n",
    "\n",
    "highlighted_poems_list = highlighted_poems.split(',')\n",
    "print(highlighted_poems_list)\n",
    "\n",
    "highlighted_poems_stripped = []\n",
    "for i in range(len(highlighted_poems_list)):\n",
    "  stripped_str = highlighted_poems_list[i].strip()\n",
    "  highlighted_poems_stripped.append(stripped_str)\n",
    "print(highlighted_poems_stripped)\n",
    "\n",
    "highlighted_poems_details = []\n",
    "for poem in highlighted_poems_stripped:\n",
    "  highlighted_poems_details.append(poem.split(':'))\n",
    "\n",
    "titles = []\n",
    "poets = []\n",
    "dates = []\n",
    "for poem in highlighted_poems_details:\n",
    "  titles.append(poem[0])\n",
    "  poets.append(poem[1])\n",
    "  dates.append(poem[2])\n",
    "\n",
    "for poem in highlighted_poems_details:\n",
    "  msg = \"The poem {titles[0]} was punlished by {poets[0]} in {dates[0]}\"\n",
    "  return msg"
   ]
  }
 ],
 "metadata": {
  "kernelspec": {
   "display_name": "Python 3 (ipykernel)",
   "language": "python",
   "name": "python3"
  },
  "language_info": {
   "codemirror_mode": {
    "name": "ipython",
    "version": 3
   },
   "file_extension": ".py",
   "mimetype": "text/x-python",
   "name": "python",
   "nbconvert_exporter": "python",
   "pygments_lexer": "ipython3",
   "version": "3.9.12"
  }
 },
 "nbformat": 4,
 "nbformat_minor": 5
}
