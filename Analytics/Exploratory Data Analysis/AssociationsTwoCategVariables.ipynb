{
 "cells": [
  {
   "cell_type": "code",
   "execution_count": null,
   "id": "0c458cac-1eb1-4280-ba95-126903aa2025",
   "metadata": {},
   "outputs": [],
   "source": [
    "#Contingency table: Frequencies\n",
    "import pandas as pd\n",
    "import codecademylib3\n",
    "\n",
    "npi = pd.read_csv(\"npi_sample.csv\")\n",
    "\n",
    "special_authority_freq = pd.crosstab(npi.special, npi. authority)\n",
    "print(special_authority_freq)"
   ]
  },
  {
   "cell_type": "code",
   "execution_count": null,
   "id": "b72ba2a2-4616-4e25-b22a-942908b6883b",
   "metadata": {},
   "outputs": [],
   "source": [
    "#Contingency table: Proportions\n",
    "import pandas as pd\n",
    "import numpy as np\n",
    "\n",
    "npi = pd.read_csv(\"npi_sample.csv\")\n",
    "\n",
    "special_authority_freq = pd.crosstab(npi.special, npi.authority)\n",
    "\n",
    "# save the table of proportions as special_authority_prop:\n",
    "special_authority_prop = special_authority_freq / len(npi)\n",
    "\n",
    "# print out special_authority_prop\n",
    "print(special_authority_prop)"
   ]
  },
  {
   "cell_type": "code",
   "execution_count": null,
   "id": "67738070-8715-4d3d-bae5-2ae356a1da79",
   "metadata": {},
   "outputs": [],
   "source": [
    "#Marginal Proportions\n",
    "import pandas as pd\n",
    "import numpy as np\n",
    "\n",
    "npi = pd.read_csv(\"npi_sample.csv\")\n",
    "\n",
    "# save the table of frequencies as special_authority_freq:\n",
    "special_authority_freq = pd.crosstab(npi.special, npi.authority)\n",
    "\n",
    "# save the table of proportions as special_authority_prop:\n",
    "special_authority_prop = special_authority_freq/len(npi)\n",
    "\n",
    "# calculate and print authority_marginals\n",
    "authority_marginals = special_authority_prop.sum(axis=0)\n",
    "print(authority_marginals)\n",
    "\n",
    "# calculate and print special_marginals\n",
    "special_marginals = special_authority_prop.sum(axis=1)\n",
    "print(special_marginals)"
   ]
  },
  {
   "cell_type": "code",
   "execution_count": null,
   "id": "3ac14ca1-13e4-4ccc-b403-6bddc935c240",
   "metadata": {},
   "outputs": [],
   "source": [
    "#Expected Contingency Tables\n",
    "import pandas as pd\n",
    "import numpy as np\n",
    "from scipy.stats import chi2_contingency\n",
    "\n",
    "npi = pd.read_csv(\"npi_sample.csv\")\n",
    "\n",
    "special_authority_freq = pd.crosstab(npi.special, npi.authority)\n",
    "print(\"observed contingency table:\")\n",
    "print(special_authority_freq)\n",
    "\n",
    "# calculate the expected contingency table if there's no association and save it as expected\n",
    "from scipy.stats import chi2_contingency\n",
    "chi2, pval, dof, expected = chi2_contingency(special_authority_freq)\n",
    "\n",
    "# print out the expected frequency table\n",
    "print(\"expected contingency table (no association):\")\n",
    "print(np.round(expected))"
   ]
  },
  {
   "cell_type": "code",
   "execution_count": null,
   "id": "fc55c17e-80b6-4f6a-bf6b-a9dd745f71fa",
   "metadata": {},
   "outputs": [],
   "source": [
    "#Chi-Square\n",
    "import pandas as pd\n",
    "import numpy as np\n",
    "from scipy.stats import chi2_contingency\n",
    "\n",
    "npi = pd.read_csv(\"npi_sample.csv\")\n",
    "\n",
    "special_authority_freq = pd.crosstab(npi.special, npi.authority)\n",
    "\n",
    "# calculate the chi squared statistic and save it as chi2, then print it:\n",
    "from scipy.stats import chi2_contingency\n",
    "chi2, pval, dof, expected = chi2_contingency(special_authority_freq)\n",
    "print(chi2)"
   ]
  }
 ],
 "metadata": {
  "kernelspec": {
   "display_name": "Python 3 (ipykernel)",
   "language": "python",
   "name": "python3"
  },
  "language_info": {
   "codemirror_mode": {
    "name": "ipython",
    "version": 3
   },
   "file_extension": ".py",
   "mimetype": "text/x-python",
   "name": "python",
   "nbconvert_exporter": "python",
   "pygments_lexer": "ipython3",
   "version": "3.9.12"
  }
 },
 "nbformat": 4,
 "nbformat_minor": 5
}
