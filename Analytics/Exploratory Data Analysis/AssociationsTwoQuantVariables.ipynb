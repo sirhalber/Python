{
 "cells": [
  {
   "cell_type": "code",
   "execution_count": null,
   "id": "c1691ef0-b73f-4a0d-9cef-147e5bbbc104",
   "metadata": {},
   "outputs": [],
   "source": [
    "#Scatter Plots\n",
    "import pandas as pd\n",
    "import matplotlib.pyplot as plt \n",
    "import codecademylib3\n",
    "\n",
    "housing = pd.read_csv('housing_sample.csv')\n",
    "\n",
    "print(housing.head())\n",
    "\n",
    "#create your scatter plot here:\n",
    "plt.scatter(x = housing.beds, y = housing.sqfeet)\n",
    "plt.xlabel('Beds (Units)')\n",
    "plt.ylabel('Area (Square Feet)')\n",
    "plt.show()"
   ]
  },
  {
   "cell_type": "code",
   "execution_count": null,
   "id": "3f381a96-5df2-4b7a-96b2-7a5399d216ef",
   "metadata": {},
   "outputs": [],
   "source": [
    "#Covariance\n",
    "import numpy as np\n",
    "import pandas as pd\n",
    "np.set_printoptions(suppress=True, precision = 1) \n",
    "\n",
    "housing = pd.read_csv('housing_sample.csv')\n",
    "\n",
    "# calculate and print covariance matrix:\n",
    "cov_mat_sqfeet_beds = np.cov(housing.beds, housing.sqfeet)\n",
    "print(cov_mat_sqfeet_beds)\n",
    "\n",
    "# store the covariance as cov_sqfeet_beds\n",
    "cov_sqfeet_beds = 228.2"
   ]
  },
  {
   "cell_type": "code",
   "execution_count": null,
   "id": "1634378e-c8cb-4608-81d0-f7a234ff6719",
   "metadata": {},
   "outputs": [],
   "source": [
    "#Correlation I\n",
    "import pandas as pd\n",
    "import matplotlib.pyplot as plt \n",
    "import codecademylib3\n",
    "from scipy.stats import pearsonr\n",
    "\n",
    "housing = pd.read_csv('housing_sample.csv')\n",
    "\n",
    "# calculate corr_sqfeet_beds and print it out:\n",
    "from scipy.stats import pearsonr\n",
    "corr_sqfeet_beds, p = pearsonr(housing.beds, housing.sqfeet)\n",
    "print(corr_sqfeet_beds)\n",
    "\n",
    "# create the scatter plot here:\n",
    "plt.scatter(x = housing.beds, y = housing.sqfeet)\n",
    "plt.xlabel('Beds (Units)')\n",
    "plt.ylabel('Area (Square Feet)')\n",
    "plt.show()"
   ]
  },
  {
   "cell_type": "code",
   "execution_count": null,
   "id": "8e5a9d5f-cee0-4c4e-9728-dab76a0c4739",
   "metadata": {},
   "outputs": [],
   "source": [
    "#Correlation II\n",
    "import pandas as pd\n",
    "import matplotlib.pyplot as plt \n",
    "import codecademylib3\n",
    "from scipy.stats import pearsonr\n",
    "\n",
    "sleep = pd.read_csv('sleep_performance.csv')\n",
    "\n",
    "# create your scatter plot here:\n",
    "plt.scatter(sleep.hours_sleep, sleep.performance)\n",
    "plt.xlabel('Hours of Sleep')\n",
    "plt.ylabel('Performance')\n",
    "plt.show()\n",
    "\n",
    "# calculate the correlation for `hours_sleep` and `performance`:\n",
    "corr_sleep_performance, p = pearsonr(sleep.hours_sleep, sleep.performance)\n",
    "print(corr_sleep_performance)"
   ]
  },
  {
   "cell_type": "code",
   "execution_count": null,
   "id": "8024286f-99fd-445d-8dbb-aea1e785b9ac",
   "metadata": {},
   "outputs": [],
   "source": [
    "#Review\n",
    "import numpy as np\n",
    "import pandas as pd\n",
    "import matplotlib.pyplot as plt \n",
    "import seaborn as sns\n",
    "import codecademylib3\n",
    "from scipy.stats import pearsonr\n",
    "np.set_printoptions(suppress=True, precision = 1) \n",
    "\n",
    "penguins = pd.read_csv('penguins.csv')\n",
    "\n",
    "#Inspect data\n",
    "print(penguins.head())\n",
    "\n",
    "#Scatter plot\n",
    "plt.scatter(penguins.flipper_length_mm, penguins.body_mass_g)\n",
    "plt.xlabel('Flipper Lenght (mm)')\n",
    "plt.ylabel('Body Mass (g)')\n",
    "plt.show()\n",
    "\n",
    "#Covariance\n",
    "cov_mat_length_mass = np.cov(penguins.flipper_length_mm, \\\n",
    "penguins.body_mass_g)\n",
    "print(cov_mat_length_mass)\n",
    "\n",
    "#Correlation\n",
    "from scipy.stats import pearsonr\n",
    "corr_length_mass, p = pearsonr(penguins.flipper_length_mm, \\\n",
    "penguins.body_mass_g)\n",
    "print(corr_length_mass)"
   ]
  }
 ],
 "metadata": {
  "kernelspec": {
   "display_name": "Python 3 (ipykernel)",
   "language": "python",
   "name": "python3"
  },
  "language_info": {
   "codemirror_mode": {
    "name": "ipython",
    "version": 3
   },
   "file_extension": ".py",
   "mimetype": "text/x-python",
   "name": "python",
   "nbconvert_exporter": "python",
   "pygments_lexer": "ipython3",
   "version": "3.9.12"
  }
 },
 "nbformat": 4,
 "nbformat_minor": 5
}
